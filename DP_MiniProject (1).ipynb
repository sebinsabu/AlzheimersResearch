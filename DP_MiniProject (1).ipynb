{
 "cells": [
  {
   "cell_type": "code",
   "execution_count": 2,
   "metadata": {
    "id": "lErI7_zHDigH"
   },
   "outputs": [],
   "source": [
    "import pandas as pd\n",
    "import numpy as np\n",
    "from scipy import stats\n",
    "import matplotlib.pyplot as plt  \n",
    "import seaborn as sns\n",
    "from sklearn.model_selection import GridSearchCV\n",
    "from sklearn.model_selection import train_test_split \n",
    "from sklearn import tree\n",
    "from sklearn.model_selection import cross_val_score\n",
    "from sklearn.metrics import accuracy_score, precision_score, recall_score, f1_score\n",
    "from sklearn.metrics import confusion_matrix\n",
    "from sklearn.ensemble import BaggingClassifier\n",
    "from sklearn.tree import DecisionTreeClassifier\n",
    "from sklearn.ensemble import RandomForestClassifier\n",
    "from sklearn.ensemble import AdaBoostClassifier\n",
    "from sklearn.metrics import plot_confusion_matrix\n",
    "import seaborn as sns\n",
    "import matplotlib.pyplot as plt"
   ]
  },
  {
   "cell_type": "code",
   "execution_count": 3,
   "metadata": {
    "colab": {
     "base_uri": "https://localhost:8080/"
    },
    "id": "jXX60Y3ouBex",
    "outputId": "493a5813-5d0f-4705-9fd9-02f42d660061"
   },
   "outputs": [
    {
     "name": "stdout",
     "output_type": "stream",
     "text": [
      "     DIAGNOSIS   AGE PTGENDER  PTEDUCAT         PTETHCAT       PTRACCAT  \\\n",
      "0           CN  74.3     Male        16  Not Hisp/Latino          White   \n",
      "1     Dementia  81.3     Male        18  Not Hisp/Latino          White   \n",
      "2          MCI  67.5     Male        10      Hisp/Latino          White   \n",
      "3           CN  73.7     Male        16  Not Hisp/Latino          White   \n",
      "4          MCI  80.4   Female        13  Not Hisp/Latino          White   \n",
      "5     Dementia  75.4     Male        10      Hisp/Latino  More than one   \n",
      "6           CN  84.5   Female        18  Not Hisp/Latino          White   \n",
      "7     Dementia  73.9   Female        12  Not Hisp/Latino          White   \n",
      "8           CN  78.5   Female        12      Hisp/Latino          White   \n",
      "9           CN  80.8     Male        18  Not Hisp/Latino          White   \n",
      "10          CN  65.4     Male         9  Not Hisp/Latino          Black   \n",
      "11          CN  73.1   Female        18  Not Hisp/Latino          White   \n",
      "12          CN  72.6   Female        18  Not Hisp/Latino          Black   \n",
      "13          CN  63.2     Male        17  Not Hisp/Latino          Black   \n",
      "14          CN  71.7     Male        14  Not Hisp/Latino          Black   \n",
      "15    Dementia  64.1     Male        18  Not Hisp/Latino          White   \n",
      "16         MCI  80.0   Female        19  Not Hisp/Latino          White   \n",
      "17          CN  77.7   Female        18  Not Hisp/Latino          White   \n",
      "18         MCI  83.3     Male        20  Not Hisp/Latino          White   \n",
      "19          CN  76.9     Male        18  Not Hisp/Latino          White   \n",
      "20         MCI  76.8     Male        12  Not Hisp/Latino          White   \n",
      "21          CN  73.2     Male        18  Not Hisp/Latino          White   \n",
      "22         MCI  70.9   Female        14  Not Hisp/Latino          White   \n",
      "23         MCI  72.8     Male        18  Not Hisp/Latino          White   \n",
      "24          CN  76.2     Male        16  Not Hisp/Latino          White   \n",
      "25         MCI  85.8   Female        16  Not Hisp/Latino          White   \n",
      "26         MCI  85.9     Male        18  Not Hisp/Latino          White   \n",
      "27          CN  84.7     Male        20  Not Hisp/Latino          White   \n",
      "28          CN  78.3     Male        14  Not Hisp/Latino          Asian   \n",
      "29         MCI  77.6     Male        16  Not Hisp/Latino          White   \n",
      "...        ...   ...      ...       ...              ...            ...   \n",
      "1821        CN  70.5   Female        18  Not Hisp/Latino          White   \n",
      "1822        CN  82.7     Male        18  Not Hisp/Latino          White   \n",
      "1823        CN  90.3     Male        12  Not Hisp/Latino          White   \n",
      "1824        CN  65.6   Female        18  Not Hisp/Latino          White   \n",
      "1825        CN  69.5   Female        15  Not Hisp/Latino          White   \n",
      "1826        CN  83.3   Female        18  Not Hisp/Latino          White   \n",
      "1827        CN  69.1     Male        16  Not Hisp/Latino          White   \n",
      "1828        CN  72.3     Male        18  Not Hisp/Latino          White   \n",
      "1829        CN  69.6   Female        20  Not Hisp/Latino          White   \n",
      "1830        CN  70.9   Female        18  Not Hisp/Latino          White   \n",
      "1831        CN  72.2     Male        16  Not Hisp/Latino          White   \n",
      "1832        CN  71.3   Female        18  Not Hisp/Latino          White   \n",
      "1833        CN  75.9   Female        16  Not Hisp/Latino          White   \n",
      "1834        CN  75.1   Female        14  Not Hisp/Latino          White   \n",
      "1835       MCI  79.9     Male        18  Not Hisp/Latino          White   \n",
      "1836  Dementia  69.1   Female        16  Not Hisp/Latino          White   \n",
      "1837        CN  76.4   Female        16  Not Hisp/Latino          White   \n",
      "1838        CN  70.6   Female        16  Not Hisp/Latino          White   \n",
      "1839       MCI  82.9     Male        18  Not Hisp/Latino          White   \n",
      "1840        CN  61.1   Female        20  Not Hisp/Latino          Asian   \n",
      "1841       MCI  66.8     Male        14  Not Hisp/Latino          White   \n",
      "1842        CN  66.7     Male        14  Not Hisp/Latino          White   \n",
      "1843        CN  75.3   Female        13  Not Hisp/Latino          White   \n",
      "1844        CN  62.0     Male        20  Not Hisp/Latino          Asian   \n",
      "1845       MCI  79.8     Male        20  Not Hisp/Latino          White   \n",
      "1846        CN  71.4     Male        14      Hisp/Latino          White   \n",
      "1847        CN  65.8   Female        13  Not Hisp/Latino          White   \n",
      "1848       MCI  76.7     Male        18  Not Hisp/Latino          White   \n",
      "1849        CN  72.6     Male        19  Not Hisp/Latino          White   \n",
      "1850        CN  56.5   Female        16  Not Hisp/Latino          White   \n",
      "\n",
      "            PTMARRY  ADAS11.bl  ADAS13.bl  ADASQ4.bl   ...     EcogSPPlan.bl  \\\n",
      "0           Married      10.67      18.67        5.0   ...               NaN   \n",
      "1           Married      22.00      31.00        8.0   ...               NaN   \n",
      "2           Married      14.33      21.33        6.0   ...               NaN   \n",
      "3           Married       8.67      14.67        4.0   ...               NaN   \n",
      "4           Married      18.67      25.67        7.0   ...               NaN   \n",
      "5           Married      27.33      40.33       10.0   ...               NaN   \n",
      "6           Widowed       5.00       7.00        2.0   ...               NaN   \n",
      "7           Married      12.33      24.33       10.0   ...               NaN   \n",
      "8          Divorced       4.33       8.33        4.0   ...               NaN   \n",
      "9           Married       7.00       9.00        2.0   ...               NaN   \n",
      "10          Married      10.33      14.33        4.0   ...               NaN   \n",
      "11         Divorced       3.00       4.00        0.0   ...               NaN   \n",
      "12         Divorced       6.67       9.67        3.0   ...               NaN   \n",
      "13         Divorced       8.67      13.67        5.0   ...               NaN   \n",
      "14          Widowed       4.00       8.00        4.0   ...               NaN   \n",
      "15          Married      21.33      34.33       10.0   ...               NaN   \n",
      "16          Married      10.00      22.00       10.0   ...               NaN   \n",
      "17          Widowed       1.67       1.67        0.0   ...               NaN   \n",
      "18          Married      17.67      25.67        6.0   ...               NaN   \n",
      "19          Married       6.00       9.00        2.0   ...               NaN   \n",
      "20          Married      11.33      16.33        4.0   ...               NaN   \n",
      "21          Married       8.33      12.33        4.0   ...               NaN   \n",
      "22          Married      18.33      28.33       10.0   ...               NaN   \n",
      "23          Married       7.00      12.00        5.0   ...               NaN   \n",
      "24          Married       7.00      10.00        2.0   ...               NaN   \n",
      "25          Married      17.00      28.00       10.0   ...               NaN   \n",
      "26    Never married      15.33      23.33        7.0   ...               NaN   \n",
      "27          Married       8.00      11.00        2.0   ...               NaN   \n",
      "28          Married       3.33       5.33        2.0   ...               NaN   \n",
      "29          Married      18.00      29.00        6.0   ...               NaN   \n",
      "...             ...        ...        ...        ...   ...               ...   \n",
      "1821        Married       6.33      11.33        3.0   ...               1.0   \n",
      "1822        Married      11.33      14.33        2.0   ...               1.0   \n",
      "1823        Widowed      12.33      17.33        2.0   ...               1.0   \n",
      "1824        Married       7.33       8.33        0.0   ...               1.0   \n",
      "1825       Divorced       8.00      13.00        3.0   ...               1.0   \n",
      "1826        Widowed       8.00      11.00        1.0   ...               1.0   \n",
      "1827        Married      13.00      22.00        7.0   ...               1.0   \n",
      "1828        Married       8.00      10.00        2.0   ...               1.0   \n",
      "1829        Married       8.67      15.67        4.0   ...               1.0   \n",
      "1830        Married       6.67      10.67        1.0   ...               1.0   \n",
      "1831        Married      14.67      19.67        4.0   ...               1.0   \n",
      "1832        Married      10.00      15.00        3.0   ...               1.4   \n",
      "1833        Married      13.00      19.00        6.0   ...               1.0   \n",
      "1834        Married       9.67      12.67        2.0   ...               1.2   \n",
      "1835        Married      16.33      26.33        8.0   ...               2.6   \n",
      "1836        Married      28.33      40.33        9.0   ...               2.0   \n",
      "1837        Married       7.67       8.67        0.0   ...               1.0   \n",
      "1838        Married      10.67      13.67        3.0   ...               1.0   \n",
      "1839        Married      17.33      28.33        9.0   ...               1.4   \n",
      "1840        Married       8.00      11.00        2.0   ...               1.0   \n",
      "1841        Married      11.33      13.33        2.0   ...               1.0   \n",
      "1842       Divorced      10.67      18.67        5.0   ...               1.0   \n",
      "1843        Married       8.00      13.00        3.0   ...               1.0   \n",
      "1844       Divorced      13.67      19.67        4.0   ...               1.0   \n",
      "1845        Married      13.33      20.33        5.0   ...               1.8   \n",
      "1846        Married      12.00      15.00        2.0   ...               1.0   \n",
      "1847        Married       6.00       8.00        1.0   ...               1.4   \n",
      "1848        Married      12.33      21.33        8.0   ...               1.2   \n",
      "1849        Married       6.67       8.67        0.0   ...               1.0   \n",
      "1850        Married        NaN        NaN        NaN   ...               1.0   \n",
      "\n",
      "      EcogSPOrgan.bl  EcogSPDivatt.bl  EcogSPTotal.bl  ABETA.bl  TAU.bl  \\\n",
      "0                NaN              NaN             NaN       NaN     NaN   \n",
      "1                NaN              NaN             NaN     741.5   239.7   \n",
      "2                NaN              NaN             NaN    1501.0   153.1   \n",
      "3                NaN              NaN             NaN     547.3   337.0   \n",
      "4                NaN              NaN             NaN       NaN     NaN   \n",
      "5                NaN              NaN             NaN       NaN     NaN   \n",
      "6                NaN              NaN             NaN    1701.0   440.2   \n",
      "7                NaN              NaN             NaN     357.4   329.9   \n",
      "8                NaN              NaN             NaN    1582.0   203.6   \n",
      "9                NaN              NaN             NaN       NaN     NaN   \n",
      "10               NaN              NaN             NaN     550.6   170.5   \n",
      "11               NaN              NaN             NaN    1701.0   213.7   \n",
      "12               NaN              NaN             NaN       NaN     NaN   \n",
      "13               NaN              NaN             NaN    1701.0   264.7   \n",
      "14               NaN              NaN             NaN    1647.0   181.1   \n",
      "15               NaN              NaN             NaN     442.9   265.2   \n",
      "16               NaN              NaN             NaN       NaN     NaN   \n",
      "17               NaN              NaN             NaN    1701.0   266.8   \n",
      "18               NaN              NaN             NaN     673.0   333.7   \n",
      "19               NaN              NaN             NaN       NaN     NaN   \n",
      "20               NaN              NaN             NaN     874.1   153.2   \n",
      "21               NaN              NaN             NaN    1526.0   147.8   \n",
      "22               NaN              NaN             NaN     414.6   221.3   \n",
      "23               NaN              NaN             NaN    1258.0   250.1   \n",
      "24               NaN              NaN             NaN     894.4   254.2   \n",
      "25               NaN              NaN             NaN       NaN     NaN   \n",
      "26               NaN              NaN             NaN     383.3   526.0   \n",
      "27               NaN              NaN             NaN    1410.0   224.4   \n",
      "28               NaN              NaN             NaN       NaN     NaN   \n",
      "29               NaN              NaN             NaN       NaN     NaN   \n",
      "...              ...              ...             ...       ...     ...   \n",
      "1821        1.000000             1.00        1.026316       NaN     NaN   \n",
      "1822        1.000000             1.00        1.054054       NaN     NaN   \n",
      "1823        1.000000             1.00        1.000000       NaN     NaN   \n",
      "1824        1.000000             1.00        1.000000       NaN     NaN   \n",
      "1825        1.000000             1.25        1.026316       NaN     NaN   \n",
      "1826        1.000000             1.50        1.052632       NaN     NaN   \n",
      "1827        1.000000             2.25        1.368421       NaN     NaN   \n",
      "1828        1.000000             1.25        1.108108       NaN     NaN   \n",
      "1829        1.000000             1.00        1.000000       NaN     NaN   \n",
      "1830        1.000000             1.00        1.026316       NaN     NaN   \n",
      "1831        1.000000             1.00        1.157895       NaN     NaN   \n",
      "1832        1.166667             1.75        1.473684       NaN     NaN   \n",
      "1833        1.000000             1.25        1.026316       NaN     NaN   \n",
      "1834        1.000000             1.00        1.289474       NaN     NaN   \n",
      "1835        2.333333             2.00        2.513514       NaN     NaN   \n",
      "1836        1.666667             1.50        2.315789       NaN     NaN   \n",
      "1837        1.000000             1.00        1.000000       NaN     NaN   \n",
      "1838        1.000000             1.75        1.184211       NaN     NaN   \n",
      "1839        1.833333             2.00        1.810811       NaN     NaN   \n",
      "1840        1.000000             1.00        1.131579       NaN     NaN   \n",
      "1841        1.500000             1.50        1.394737       NaN     NaN   \n",
      "1842        1.000000             1.00        1.052632       NaN     NaN   \n",
      "1843        1.000000             1.00        1.078947       NaN     NaN   \n",
      "1844        1.000000             1.00        1.105263       NaN     NaN   \n",
      "1845        1.666667             2.75        2.052632       NaN     NaN   \n",
      "1846        1.000000             1.00        1.000000       NaN     NaN   \n",
      "1847        1.333333             1.25        1.342105       NaN     NaN   \n",
      "1848        1.333333             1.25        1.447368       NaN     NaN   \n",
      "1849        1.333333             1.50        1.263158       NaN     NaN   \n",
      "1850        1.000000             1.00        1.000000       NaN     NaN   \n",
      "\n",
      "      PTAU.bl    FDG.bl  PIB.bl  AV45.bl  \n",
      "0         NaN  1.369264     NaN      NaN  \n",
      "1       22.83  1.090790     NaN      NaN  \n",
      "2       13.29       NaN     NaN      NaN  \n",
      "3       33.43  1.297990     NaN      NaN  \n",
      "4         NaN       NaN     NaN      NaN  \n",
      "5         NaN       NaN     NaN      NaN  \n",
      "6       37.51  1.276278     NaN      NaN  \n",
      "7       31.26  1.118814     NaN      NaN  \n",
      "8       16.68  1.256990     NaN      NaN  \n",
      "9         NaN       NaN     NaN      NaN  \n",
      "10      15.88  1.395434     NaN      NaN  \n",
      "11      18.05       NaN     NaN      NaN  \n",
      "12        NaN  1.382790     NaN      NaN  \n",
      "13      21.85       NaN     NaN      NaN  \n",
      "14      16.74  1.364222     NaN      NaN  \n",
      "15      27.24       NaN     NaN      NaN  \n",
      "16        NaN       NaN     NaN      NaN  \n",
      "17      22.55       NaN     NaN      NaN  \n",
      "18      34.93  1.105666     NaN      NaN  \n",
      "19        NaN       NaN     NaN      NaN  \n",
      "20      13.45       NaN     NaN      NaN  \n",
      "21      12.50       NaN     NaN      NaN  \n",
      "22      18.07       NaN     NaN      NaN  \n",
      "23      18.23       NaN     NaN      NaN  \n",
      "24      24.25  1.308406     NaN      NaN  \n",
      "25        NaN       NaN     NaN      NaN  \n",
      "26      58.65       NaN     NaN      NaN  \n",
      "27      21.40  1.441512     NaN      NaN  \n",
      "28        NaN  1.238142     NaN      NaN  \n",
      "29        NaN       NaN     NaN      NaN  \n",
      "...       ...       ...     ...      ...  \n",
      "1821      NaN       NaN     NaN      NaN  \n",
      "1822      NaN       NaN     NaN      NaN  \n",
      "1823      NaN       NaN     NaN      NaN  \n",
      "1824      NaN       NaN     NaN      NaN  \n",
      "1825      NaN       NaN     NaN      NaN  \n",
      "1826      NaN       NaN     NaN      NaN  \n",
      "1827      NaN       NaN     NaN      NaN  \n",
      "1828      NaN       NaN     NaN      NaN  \n",
      "1829      NaN       NaN     NaN      NaN  \n",
      "1830      NaN       NaN     NaN      NaN  \n",
      "1831      NaN       NaN     NaN      NaN  \n",
      "1832      NaN       NaN     NaN      NaN  \n",
      "1833      NaN       NaN     NaN      NaN  \n",
      "1834      NaN       NaN     NaN      NaN  \n",
      "1835      NaN       NaN     NaN      NaN  \n",
      "1836      NaN       NaN     NaN      NaN  \n",
      "1837      NaN       NaN     NaN      NaN  \n",
      "1838      NaN       NaN     NaN      NaN  \n",
      "1839      NaN       NaN     NaN      NaN  \n",
      "1840      NaN       NaN     NaN      NaN  \n",
      "1841      NaN       NaN     NaN      NaN  \n",
      "1842      NaN       NaN     NaN      NaN  \n",
      "1843      NaN       NaN     NaN      NaN  \n",
      "1844      NaN       NaN     NaN      NaN  \n",
      "1845      NaN       NaN     NaN      NaN  \n",
      "1846      NaN       NaN     NaN      NaN  \n",
      "1847      NaN       NaN     NaN      NaN  \n",
      "1848      NaN       NaN     NaN      NaN  \n",
      "1849      NaN       NaN     NaN      NaN  \n",
      "1850      NaN       NaN     NaN      NaN  \n",
      "\n",
      "[1851 rows x 50 columns]\n"
     ]
    }
   ],
   "source": [
    "# Loading dataset hosted.\n",
    "url = \"https://raw.githubusercontent.com/sebinsabu/DataStore/main/adni.csv\";\n",
    "df1 = pd.read_csv(url)\n",
    "print(df1)"
   ]
  },
  {
   "cell_type": "code",
   "execution_count": 4,
   "metadata": {
    "colab": {
     "base_uri": "https://localhost:8080/",
     "height": 317
    },
    "id": "lQtzhTKMFacZ",
    "outputId": "339e6663-f901-479d-8798-3bec8c899872"
   },
   "outputs": [
    {
     "data": {
      "text/html": [
       "<div>\n",
       "<style scoped>\n",
       "    .dataframe tbody tr th:only-of-type {\n",
       "        vertical-align: middle;\n",
       "    }\n",
       "\n",
       "    .dataframe tbody tr th {\n",
       "        vertical-align: top;\n",
       "    }\n",
       "\n",
       "    .dataframe thead th {\n",
       "        text-align: right;\n",
       "    }\n",
       "</style>\n",
       "<table border=\"1\" class=\"dataframe\">\n",
       "  <thead>\n",
       "    <tr style=\"text-align: right;\">\n",
       "      <th></th>\n",
       "      <th>AGE</th>\n",
       "      <th>PTEDUCAT</th>\n",
       "      <th>ADAS11.bl</th>\n",
       "      <th>ADAS13.bl</th>\n",
       "      <th>ADASQ4.bl</th>\n",
       "      <th>MMSE.bl</th>\n",
       "      <th>RAVLT.immediate.bl</th>\n",
       "      <th>RAVLT.learning.bl</th>\n",
       "      <th>RAVLT.forgetting.bl</th>\n",
       "      <th>RAVLT.perc.forgetting.bl</th>\n",
       "      <th>...</th>\n",
       "      <th>EcogSPPlan.bl</th>\n",
       "      <th>EcogSPOrgan.bl</th>\n",
       "      <th>EcogSPDivatt.bl</th>\n",
       "      <th>EcogSPTotal.bl</th>\n",
       "      <th>ABETA.bl</th>\n",
       "      <th>TAU.bl</th>\n",
       "      <th>PTAU.bl</th>\n",
       "      <th>FDG.bl</th>\n",
       "      <th>PIB.bl</th>\n",
       "      <th>AV45.bl</th>\n",
       "    </tr>\n",
       "  </thead>\n",
       "  <tbody>\n",
       "    <tr>\n",
       "      <th>count</th>\n",
       "      <td>1851.000000</td>\n",
       "      <td>1851.000000</td>\n",
       "      <td>1846.000000</td>\n",
       "      <td>1836.000000</td>\n",
       "      <td>1850.000000</td>\n",
       "      <td>1851.000000</td>\n",
       "      <td>1843.000000</td>\n",
       "      <td>1843.000000</td>\n",
       "      <td>1843.000000</td>\n",
       "      <td>1837.000000</td>\n",
       "      <td>...</td>\n",
       "      <td>1013.000000</td>\n",
       "      <td>981.000000</td>\n",
       "      <td>1002.000000</td>\n",
       "      <td>1021.000000</td>\n",
       "      <td>1215.000000</td>\n",
       "      <td>1215.000000</td>\n",
       "      <td>1215.000000</td>\n",
       "      <td>1301.000000</td>\n",
       "      <td>20.000000</td>\n",
       "      <td>891.000000</td>\n",
       "    </tr>\n",
       "    <tr>\n",
       "      <th>mean</th>\n",
       "      <td>73.603944</td>\n",
       "      <td>15.947596</td>\n",
       "      <td>10.792156</td>\n",
       "      <td>16.808448</td>\n",
       "      <td>5.184324</td>\n",
       "      <td>27.278768</td>\n",
       "      <td>35.772653</td>\n",
       "      <td>4.277265</td>\n",
       "      <td>4.300054</td>\n",
       "      <td>57.382509</td>\n",
       "      <td>...</td>\n",
       "      <td>1.547038</td>\n",
       "      <td>1.637802</td>\n",
       "      <td>1.812542</td>\n",
       "      <td>1.677406</td>\n",
       "      <td>980.085021</td>\n",
       "      <td>287.027086</td>\n",
       "      <td>27.641152</td>\n",
       "      <td>1.233852</td>\n",
       "      <td>1.698375</td>\n",
       "      <td>1.211917</td>\n",
       "    </tr>\n",
       "    <tr>\n",
       "      <th>std</th>\n",
       "      <td>7.199413</td>\n",
       "      <td>2.828228</td>\n",
       "      <td>6.539005</td>\n",
       "      <td>9.433675</td>\n",
       "      <td>2.944607</td>\n",
       "      <td>2.665917</td>\n",
       "      <td>12.641034</td>\n",
       "      <td>2.779961</td>\n",
       "      <td>2.500496</td>\n",
       "      <td>34.578994</td>\n",
       "      <td>...</td>\n",
       "      <td>0.771411</td>\n",
       "      <td>0.848796</td>\n",
       "      <td>0.907289</td>\n",
       "      <td>0.719877</td>\n",
       "      <td>457.557491</td>\n",
       "      <td>132.813700</td>\n",
       "      <td>14.603251</td>\n",
       "      <td>0.154266</td>\n",
       "      <td>0.372302</td>\n",
       "      <td>0.227395</td>\n",
       "    </tr>\n",
       "    <tr>\n",
       "      <th>min</th>\n",
       "      <td>54.400000</td>\n",
       "      <td>4.000000</td>\n",
       "      <td>0.000000</td>\n",
       "      <td>0.000000</td>\n",
       "      <td>0.000000</td>\n",
       "      <td>18.000000</td>\n",
       "      <td>0.000000</td>\n",
       "      <td>-8.000000</td>\n",
       "      <td>-9.000000</td>\n",
       "      <td>-100.000000</td>\n",
       "      <td>...</td>\n",
       "      <td>1.000000</td>\n",
       "      <td>1.000000</td>\n",
       "      <td>1.000000</td>\n",
       "      <td>1.000000</td>\n",
       "      <td>199.000000</td>\n",
       "      <td>79.000000</td>\n",
       "      <td>7.000000</td>\n",
       "      <td>0.697264</td>\n",
       "      <td>1.155000</td>\n",
       "      <td>0.838537</td>\n",
       "    </tr>\n",
       "    <tr>\n",
       "      <th>25%</th>\n",
       "      <td>69.000000</td>\n",
       "      <td>14.000000</td>\n",
       "      <td>6.000000</td>\n",
       "      <td>10.000000</td>\n",
       "      <td>3.000000</td>\n",
       "      <td>26.000000</td>\n",
       "      <td>26.000000</td>\n",
       "      <td>2.000000</td>\n",
       "      <td>3.000000</td>\n",
       "      <td>28.571429</td>\n",
       "      <td>...</td>\n",
       "      <td>1.000000</td>\n",
       "      <td>1.000000</td>\n",
       "      <td>1.000000</td>\n",
       "      <td>1.108108</td>\n",
       "      <td>596.150000</td>\n",
       "      <td>193.350000</td>\n",
       "      <td>17.350000</td>\n",
       "      <td>1.141442</td>\n",
       "      <td>1.361875</td>\n",
       "      <td>1.020809</td>\n",
       "    </tr>\n",
       "    <tr>\n",
       "      <th>50%</th>\n",
       "      <td>73.600000</td>\n",
       "      <td>16.000000</td>\n",
       "      <td>9.330000</td>\n",
       "      <td>15.000000</td>\n",
       "      <td>5.000000</td>\n",
       "      <td>28.000000</td>\n",
       "      <td>35.000000</td>\n",
       "      <td>4.000000</td>\n",
       "      <td>4.000000</td>\n",
       "      <td>57.142857</td>\n",
       "      <td>...</td>\n",
       "      <td>1.200000</td>\n",
       "      <td>1.200000</td>\n",
       "      <td>1.500000</td>\n",
       "      <td>1.384615</td>\n",
       "      <td>854.200000</td>\n",
       "      <td>257.800000</td>\n",
       "      <td>24.150000</td>\n",
       "      <td>1.245474</td>\n",
       "      <td>1.743750</td>\n",
       "      <td>1.136146</td>\n",
       "    </tr>\n",
       "    <tr>\n",
       "      <th>75%</th>\n",
       "      <td>78.700000</td>\n",
       "      <td>18.000000</td>\n",
       "      <td>14.000000</td>\n",
       "      <td>22.330000</td>\n",
       "      <td>8.000000</td>\n",
       "      <td>29.000000</td>\n",
       "      <td>45.000000</td>\n",
       "      <td>6.000000</td>\n",
       "      <td>6.000000</td>\n",
       "      <td>100.000000</td>\n",
       "      <td>...</td>\n",
       "      <td>1.800000</td>\n",
       "      <td>2.000000</td>\n",
       "      <td>2.250000</td>\n",
       "      <td>2.051282</td>\n",
       "      <td>1395.500000</td>\n",
       "      <td>349.700000</td>\n",
       "      <td>33.975000</td>\n",
       "      <td>1.336828</td>\n",
       "      <td>1.956250</td>\n",
       "      <td>1.390537</td>\n",
       "    </tr>\n",
       "    <tr>\n",
       "      <th>max</th>\n",
       "      <td>91.400000</td>\n",
       "      <td>20.000000</td>\n",
       "      <td>42.670000</td>\n",
       "      <td>54.670000</td>\n",
       "      <td>10.000000</td>\n",
       "      <td>30.000000</td>\n",
       "      <td>71.000000</td>\n",
       "      <td>12.000000</td>\n",
       "      <td>15.000000</td>\n",
       "      <td>100.000000</td>\n",
       "      <td>...</td>\n",
       "      <td>4.000000</td>\n",
       "      <td>4.000000</td>\n",
       "      <td>4.000000</td>\n",
       "      <td>3.948718</td>\n",
       "      <td>1701.000000</td>\n",
       "      <td>1301.000000</td>\n",
       "      <td>121.000000</td>\n",
       "      <td>1.707168</td>\n",
       "      <td>2.282500</td>\n",
       "      <td>2.025560</td>\n",
       "    </tr>\n",
       "  </tbody>\n",
       "</table>\n",
       "<p>8 rows × 45 columns</p>\n",
       "</div>"
      ],
      "text/plain": [
       "               AGE     PTEDUCAT    ADAS11.bl    ADAS13.bl    ADASQ4.bl  \\\n",
       "count  1851.000000  1851.000000  1846.000000  1836.000000  1850.000000   \n",
       "mean     73.603944    15.947596    10.792156    16.808448     5.184324   \n",
       "std       7.199413     2.828228     6.539005     9.433675     2.944607   \n",
       "min      54.400000     4.000000     0.000000     0.000000     0.000000   \n",
       "25%      69.000000    14.000000     6.000000    10.000000     3.000000   \n",
       "50%      73.600000    16.000000     9.330000    15.000000     5.000000   \n",
       "75%      78.700000    18.000000    14.000000    22.330000     8.000000   \n",
       "max      91.400000    20.000000    42.670000    54.670000    10.000000   \n",
       "\n",
       "           MMSE.bl  RAVLT.immediate.bl  RAVLT.learning.bl  \\\n",
       "count  1851.000000         1843.000000        1843.000000   \n",
       "mean     27.278768           35.772653           4.277265   \n",
       "std       2.665917           12.641034           2.779961   \n",
       "min      18.000000            0.000000          -8.000000   \n",
       "25%      26.000000           26.000000           2.000000   \n",
       "50%      28.000000           35.000000           4.000000   \n",
       "75%      29.000000           45.000000           6.000000   \n",
       "max      30.000000           71.000000          12.000000   \n",
       "\n",
       "       RAVLT.forgetting.bl  RAVLT.perc.forgetting.bl     ...      \\\n",
       "count          1843.000000               1837.000000     ...       \n",
       "mean              4.300054                 57.382509     ...       \n",
       "std               2.500496                 34.578994     ...       \n",
       "min              -9.000000               -100.000000     ...       \n",
       "25%               3.000000                 28.571429     ...       \n",
       "50%               4.000000                 57.142857     ...       \n",
       "75%               6.000000                100.000000     ...       \n",
       "max              15.000000                100.000000     ...       \n",
       "\n",
       "       EcogSPPlan.bl  EcogSPOrgan.bl  EcogSPDivatt.bl  EcogSPTotal.bl  \\\n",
       "count    1013.000000      981.000000      1002.000000     1021.000000   \n",
       "mean        1.547038        1.637802         1.812542        1.677406   \n",
       "std         0.771411        0.848796         0.907289        0.719877   \n",
       "min         1.000000        1.000000         1.000000        1.000000   \n",
       "25%         1.000000        1.000000         1.000000        1.108108   \n",
       "50%         1.200000        1.200000         1.500000        1.384615   \n",
       "75%         1.800000        2.000000         2.250000        2.051282   \n",
       "max         4.000000        4.000000         4.000000        3.948718   \n",
       "\n",
       "          ABETA.bl       TAU.bl      PTAU.bl       FDG.bl     PIB.bl  \\\n",
       "count  1215.000000  1215.000000  1215.000000  1301.000000  20.000000   \n",
       "mean    980.085021   287.027086    27.641152     1.233852   1.698375   \n",
       "std     457.557491   132.813700    14.603251     0.154266   0.372302   \n",
       "min     199.000000    79.000000     7.000000     0.697264   1.155000   \n",
       "25%     596.150000   193.350000    17.350000     1.141442   1.361875   \n",
       "50%     854.200000   257.800000    24.150000     1.245474   1.743750   \n",
       "75%    1395.500000   349.700000    33.975000     1.336828   1.956250   \n",
       "max    1701.000000  1301.000000   121.000000     1.707168   2.282500   \n",
       "\n",
       "          AV45.bl  \n",
       "count  891.000000  \n",
       "mean     1.211917  \n",
       "std      0.227395  \n",
       "min      0.838537  \n",
       "25%      1.020809  \n",
       "50%      1.136146  \n",
       "75%      1.390537  \n",
       "max      2.025560  \n",
       "\n",
       "[8 rows x 45 columns]"
      ]
     },
     "execution_count": 4,
     "metadata": {},
     "output_type": "execute_result"
    }
   ],
   "source": [
    "#descriptive of dataset\n",
    "df1.describe()"
   ]
  },
  {
   "cell_type": "code",
   "execution_count": 5,
   "metadata": {
    "colab": {
     "base_uri": "https://localhost:8080/"
    },
    "id": "Dwe4I0079vbR",
    "outputId": "79325a87-87e3-4848-8930-398759a718a6"
   },
   "outputs": [
    {
     "name": "stdout",
     "output_type": "stream",
     "text": [
      "number of rows:  1851\n",
      "\n",
      " Percentage of null values for each column(%)\n",
      "\n",
      " DIAGNOSIS                    0.000000\n",
      "AGE                          0.000000\n",
      "PTGENDER                     0.000000\n",
      "PTEDUCAT                     0.000000\n",
      "PTETHCAT                     0.000000\n",
      "PTRACCAT                     0.000000\n",
      "PTMARRY                      0.000000\n",
      "ADAS11.bl                    0.270124\n",
      "ADAS13.bl                    0.810373\n",
      "ADASQ4.bl                    0.054025\n",
      "MMSE.bl                      0.000000\n",
      "RAVLT.immediate.bl           0.432199\n",
      "RAVLT.learning.bl            0.432199\n",
      "RAVLT.forgetting.bl          0.432199\n",
      "RAVLT.perc.forgetting.bl     0.756348\n",
      "LDELTOTAL.bl                 0.162075\n",
      "DIGITSCOR.bl                56.023771\n",
      "TRABSCOR.bl                  2.593193\n",
      "FAQ.bl                       0.324149\n",
      "mPACCdigit.bl                0.054025\n",
      "mPACCtrailsB.bl              0.054025\n",
      "IMAGEUID.bl                  7.293355\n",
      "Ventricles.bl               10.858995\n",
      "Hippocampus.bl              19.773096\n",
      "WholeBrain.bl                9.022150\n",
      "Entorhinal.bl               21.069692\n",
      "Fusiform.bl                 21.069692\n",
      "MidTemp.bl                  21.069692\n",
      "ICV.bl                       7.293355\n",
      "MOCA.bl                     45.218801\n",
      "EcogPtMem.bl                44.408428\n",
      "EcogPtLang.bl               44.408428\n",
      "EcogPtVisspat.bl            44.624527\n",
      "EcogPtPlan.bl               44.462453\n",
      "EcogPtOrgan.bl              45.705024\n",
      "EcogPtDivatt.bl             44.786602\n",
      "EcogPtTotal.bl              44.408428\n",
      "EcogSPMem.bl                44.786602\n",
      "EcogSPLang.bl               44.732577\n",
      "EcogSPVisspat.bl            45.488925\n",
      "EcogSPPlan.bl               45.272825\n",
      "EcogSPOrgan.bl              47.001621\n",
      "EcogSPDivatt.bl             45.867099\n",
      "EcogSPTotal.bl              44.840627\n",
      "ABETA.bl                    34.359806\n",
      "TAU.bl                      34.359806\n",
      "PTAU.bl                     34.359806\n",
      "FDG.bl                      29.713668\n",
      "PIB.bl                      98.919503\n",
      "AV45.bl                     51.863857\n",
      "dtype: float64\n"
     ]
    }
   ],
   "source": [
    "# Counting the percentage of null values.\n",
    "countofnullvalues = df1.isna().sum()\n",
    "lengthofvalues    = df1.count()\n",
    "\n",
    "# Counting the number of rows in the dataframe\n",
    "index          = df1.index\n",
    "number_of_rows = len(index)\n",
    "print(\"number of rows: \",number_of_rows)\n",
    "\n",
    "percentageofnullvalues = (countofnullvalues/number_of_rows)*100\n",
    "nullvaluepercentage    = pd.DataFrame({'ColName':percentageofnullvalues.index,'NullValuepercent':percentageofnullvalues.values})\n",
    "\n",
    "print(\"\\n Percentage of null values for each column(%)\\n\\n\",percentageofnullvalues)"
   ]
  },
  {
   "cell_type": "code",
   "execution_count": 6,
   "metadata": {
    "colab": {
     "base_uri": "https://localhost:8080/"
    },
    "id": "qXWv9yNidhle",
    "outputId": "e1bd261d-8e66-4ac1-a44a-0d169e17d1c9"
   },
   "outputs": [
    {
     "name": "stdout",
     "output_type": "stream",
     "text": [
      "\n",
      " parameters having null values less than 50 percentage of total entries \n",
      "\n",
      "                     ColName  NullValuepercent\n",
      "0                  DIAGNOSIS          0.000000\n",
      "1                        AGE          0.000000\n",
      "2                   PTGENDER          0.000000\n",
      "3                   PTEDUCAT          0.000000\n",
      "4                   PTETHCAT          0.000000\n",
      "5                   PTRACCAT          0.000000\n",
      "6                    PTMARRY          0.000000\n",
      "7                  ADAS11.bl          0.270124\n",
      "8                  ADAS13.bl          0.810373\n",
      "9                  ADASQ4.bl          0.054025\n",
      "10                   MMSE.bl          0.000000\n",
      "11        RAVLT.immediate.bl          0.432199\n",
      "12         RAVLT.learning.bl          0.432199\n",
      "13       RAVLT.forgetting.bl          0.432199\n",
      "14  RAVLT.perc.forgetting.bl          0.756348\n",
      "15              LDELTOTAL.bl          0.162075\n",
      "17               TRABSCOR.bl          2.593193\n",
      "18                    FAQ.bl          0.324149\n",
      "19             mPACCdigit.bl          0.054025\n",
      "20           mPACCtrailsB.bl          0.054025\n",
      "21               IMAGEUID.bl          7.293355\n",
      "22             Ventricles.bl         10.858995\n",
      "23            Hippocampus.bl         19.773096\n",
      "24             WholeBrain.bl          9.022150\n",
      "25             Entorhinal.bl         21.069692\n",
      "26               Fusiform.bl         21.069692\n",
      "27                MidTemp.bl         21.069692\n",
      "28                    ICV.bl          7.293355\n",
      "29                   MOCA.bl         45.218801\n",
      "30              EcogPtMem.bl         44.408428\n",
      "31             EcogPtLang.bl         44.408428\n",
      "32          EcogPtVisspat.bl         44.624527\n",
      "33             EcogPtPlan.bl         44.462453\n",
      "34            EcogPtOrgan.bl         45.705024\n",
      "35           EcogPtDivatt.bl         44.786602\n",
      "36            EcogPtTotal.bl         44.408428\n",
      "37              EcogSPMem.bl         44.786602\n",
      "38             EcogSPLang.bl         44.732577\n",
      "39          EcogSPVisspat.bl         45.488925\n",
      "40             EcogSPPlan.bl         45.272825\n",
      "41            EcogSPOrgan.bl         47.001621\n",
      "42           EcogSPDivatt.bl         45.867099\n",
      "43            EcogSPTotal.bl         44.840627\n",
      "44                  ABETA.bl         34.359806\n",
      "45                    TAU.bl         34.359806\n",
      "46                   PTAU.bl         34.359806\n",
      "47                    FDG.bl         29.713668\n"
     ]
    }
   ],
   "source": [
    "filtereddata = nullvaluepercentage.loc[nullvaluepercentage['NullValuepercent'] <= 50]\n",
    "print(\"\\n parameters having null values less than 50 percentage of total entries \\n\")\n",
    "print(filtereddata)"
   ]
  },
  {
   "cell_type": "code",
   "execution_count": 7,
   "metadata": {
    "id": "jalIh3o0c0E4"
   },
   "outputs": [],
   "source": [
    "# Avoiding the entries with null values more than 50 percentage.\n",
    "df2 = df1[filtereddata['ColName']].copy()\n",
    "\n",
    "#Mapping features with categories to numerical. \n",
    "\n",
    "df2['PTGENDER'].replace({'Female': 1, 'Male': 2}, inplace= True)\n",
    "df2['PTETHCAT'].replace({'Not Hisp/Latino': 1, 'Hisp/Latino': 2, 'Unknown':3}, inplace= True)\n",
    "df2['PTMARRY'].replace({'Married': 1, 'Widowed': 2, 'Divorced':3, 'Never married':4, 'Unknown':5}, inplace= True)\n",
    "df2['PTRACCAT'].replace({'White': 1, 'More than one': 2, 'Black':3, 'Asian':4, 'Unknown':5, 'Hawaiian/Other PI':6,'Am Indian/Alaskan':7}, inplace= True)\n",
    "df2['DIAGNOSIS'].replace({'CN': 0, 'Dementia': 1, 'MCI':2}, inplace= True)\n",
    "\n",
    "# Removed two columns from the analysis; due to the inference from statistical analysis.\n",
    "del df2['PTETHCAT']\n",
    "del df2['PTRACCAT']\n",
    "\n",
    "\n",
    "\n",
    "xticklabels = ['CN','Dementia','MCI'] "
   ]
  },
  {
   "cell_type": "code",
   "execution_count": 8,
   "metadata": {
    "id": "yw5Y0dUdPHqO"
   },
   "outputs": [],
   "source": [
    "#Data stratification.\n",
    "train,test = train_test_split(df2, test_size=0.25, random_state=0, stratify=df2['DIAGNOSIS']) \n",
    "\n",
    "# separate the 'Outcome' column from training/testing data\n",
    "train_X = train[train.columns[1:47]]\n",
    "test_X  = test[test.columns[1:47]]\n",
    "\n",
    "train_Y = train['DIAGNOSIS']\n",
    "test_Y  = test['DIAGNOSIS']\n",
    "\n",
    "# Data imputation \n",
    "#  replaced null values of train and test dataset with corresponding means in the train dataset.\n",
    "\n",
    "meanofparameters = train_X.mean(skipna = True)\n",
    "train_X          = train_X.fillna(meanofparameters)\n",
    "test_X           = test_X.fillna(meanofparameters)"
   ]
  },
  {
   "cell_type": "markdown",
   "metadata": {
    "id": "jzr6h8cD_NMq"
   },
   "source": [
    "# Building and evaluating predictive models."
   ]
  },
  {
   "cell_type": "code",
   "execution_count": 9,
   "metadata": {
    "colab": {
     "base_uri": "https://localhost:8080/"
    },
    "id": "wNEyrLrrnVtc",
    "outputId": "55b84b63-7cb4-4213-816a-873c050e6fb9"
   },
   "outputs": [
    {
     "name": "stdout",
     "output_type": "stream",
     "text": [
      "acuracy on the 5 folds [0.84532374 0.84892086 0.82374101 0.87364621 0.83393502]\n",
      "Mean Accuracy:  0.8451133677895231\n"
     ]
    }
   ],
   "source": [
    "# Decision Tree.\n",
    "dt = tree.DecisionTreeClassifier()\n",
    "scores=cross_val_score(dt, train_X, train_Y, scoring='accuracy', cv=5)\n",
    "print('acuracy on the 5 folds', scores)\n",
    "print('Mean Accuracy: ', np.mean(scores))"
   ]
  },
  {
   "cell_type": "code",
   "execution_count": 10,
   "metadata": {
    "colab": {
     "base_uri": "https://localhost:8080/"
    },
    "id": "u0u-eelAnb0v",
    "outputId": "cfdd104f-dddf-477c-e1ab-7bef4dcb9842"
   },
   "outputs": [
    {
     "name": "stdout",
     "output_type": "stream",
     "text": [
      "acuracy on the 5 folds of CV [0.84892086 0.85251799 0.8381295  0.8700361  0.85920578]\n",
      "and their mean 0.8537620445160117\n"
     ]
    }
   ],
   "source": [
    "dt.max_depth = 4\n",
    "scores=cross_val_score(dt, train_X, train_Y, scoring='accuracy', cv=5)\n",
    "print('acuracy on the 5 folds of CV', scores)\n",
    "print('and their mean', np.mean(scores)) # we see performance improved"
   ]
  },
  {
   "cell_type": "code",
   "execution_count": 11,
   "metadata": {
    "colab": {
     "base_uri": "https://localhost:8080/"
    },
    "id": "_5o55rMPwkjR",
    "outputId": "a1aa9d8f-94db-43bc-9fbf-ba4726c34bfd"
   },
   "outputs": [
    {
     "name": "stdout",
     "output_type": "stream",
     "text": [
      "acuracy on the 5 folds of CV [0.83453237 0.87410072 0.88129496 0.87725632 0.87364621]\n",
      "and their mean 0.8681661169259538\n"
     ]
    }
   ],
   "source": [
    "# changing hyperparameters.\n",
    "dt.max_depth       = 5\n",
    "dt.criterion       = 'entropy'  # by default the criterion for split is gini impurity; we change it to entropy\n",
    "min_samples_split  = 10 \n",
    "scores=cross_val_score(dt, train_X, train_Y, scoring='accuracy', cv=5)\n",
    "print('acuracy on the 5 folds of CV', scores)\n",
    "print('and their mean', np.mean(scores))"
   ]
  },
  {
   "cell_type": "code",
   "execution_count": 12,
   "metadata": {
    "colab": {
     "base_uri": "https://localhost:8080/"
    },
    "id": "Dm92O4NFw--6",
    "outputId": "9f8409a3-58b2-4e50-cd09-ad61b38a57eb"
   },
   "outputs": [
    {
     "name": "stdout",
     "output_type": "stream",
     "text": [
      "best parameter values {'max_depth': 4}\n",
      "best estimator DecisionTreeClassifier(criterion='entropy', max_depth=4)\n"
     ]
    }
   ],
   "source": [
    "# Running grid search for parameter tuning\n",
    "param_grid = [\n",
    "     {'max_depth': [2, 3, 4, 5, 6, 7, 8]} ]\n",
    "\n",
    "grid_search = GridSearchCV(dt, param_grid, cv=5,\n",
    "                           scoring='accuracy',\n",
    "                           return_train_score=True)\n",
    "\n",
    "grid_search.fit(train_X, train_Y)\n",
    "print('best parameter values', grid_search.best_params_)\n",
    "print('best estimator', grid_search.best_estimator_)"
   ]
  },
  {
   "cell_type": "code",
   "execution_count": 13,
   "metadata": {
    "colab": {
     "base_uri": "https://localhost:8080/",
     "height": 398
    },
    "id": "QsqbTGcryLsG",
    "outputId": "4e40e9fe-174a-44c3-def5-c18ac4e99240"
   },
   "outputs": [
    {
     "name": "stdout",
     "output_type": "stream",
     "text": [
      "0.8090850063631405 {'max_depth': 2}\n",
      "0.8407916266264965 {'max_depth': 3}\n",
      "0.8667454484066177 {'max_depth': 4}\n",
      "0.8645663974235773 {'max_depth': 5}\n",
      "0.866010440744877 {'max_depth': 6}\n",
      "0.8588032101394697 {'max_depth': 7}\n",
      "0.845100381788432 {'max_depth': 8}\n"
     ]
    },
    {
     "data": {
      "image/png": "[encoded data removed]",
      "text/plain": [
       "<Figure size 432x288 with 1 Axes>"
      ]
     },
     "metadata": {
      "needs_background": "light"
     },
     "output_type": "display_data"
    }
   ],
   "source": [
    "# display performances per each repetition of cross validation\n",
    "\n",
    "cvres = grid_search.cv_results_\n",
    "for mean_score, params in zip(cvres[\"mean_test_score\"], cvres[\"params\"]):\n",
    "    print(np.mean(mean_score), params)\n",
    "    plt.plot(params['max_depth'],np.mean(mean_score),  'ro-')\n",
    "plt.xlabel('parameter')\n",
    "plt.ylabel('Accuracy')\n",
    "plt.show()"
   ]
  },
  {
   "cell_type": "code",
   "execution_count": 14,
   "metadata": {
    "colab": {
     "base_uri": "https://localhost:8080/",
     "height": 622
    },
    "id": "3Z6jZddoyd1p",
    "outputId": "98a23a29-171a-4a25-dae8-740efd662826"
   },
   "outputs": [
    {
     "name": "stdout",
     "output_type": "stream",
     "text": [
      "confusion matrix,  classes order is 0 and 1, actual values on rows, predicted values on columns \n",
      " [[131   0  23]\n",
      " [  0  48  39]\n",
      " [  5   1 216]]\n",
      "\n",
      " accuracy 0.8531317494600432\n",
      "\n",
      " precision 0.8531317494600432\n",
      "\n",
      " recall (sensitivity) 0.8531317494600432\n",
      "\n",
      " f1 0.8531317494600432\n",
      "\n",
      " accuracy from confusion matrix 1.0\n",
      "\n",
      " precision from confusion matrix 1.0\n",
      "\n",
      " recall (sensitivity) from confusion matrix 1.0\n",
      "\n",
      " specificity from confusion matrix 1.0\n"
     ]
    },
    {
     "data": {
      "text/plain": [
       "<matplotlib.axes._subplots.AxesSubplot at 0x7fcbb45b7e80>"
      ]
     },
     "execution_count": 14,
     "metadata": {},
     "output_type": "execute_result"
    },
    {
     "data": {
      "image/png": "[encoded data removed]",
      "text/plain": [
       "<Figure size 432x288 with 2 Axes>"
      ]
     },
     "metadata": {
      "needs_background": "light"
     },
     "output_type": "display_data"
    }
   ],
   "source": [
    "#Running the model with parameters from gridsearch on our Test Data.\n",
    "best_dt   = grid_search.best_estimator_\n",
    "pred_Y    = best_dt.predict(test_X)\n",
    "\n",
    "cm        = confusion_matrix(test_Y, pred_Y) # confusion matrix\n",
    "print('confusion matrix,  classes order is 0 and 1, actual values on rows, predicted values on columns \\n', cm)\n",
    "print('\\n accuracy', accuracy_score(test_Y, pred_Y))\n",
    "print('\\n precision', precision_score(test_Y, pred_Y, average='micro'))\n",
    "print('\\n recall (sensitivity)', recall_score(test_Y, pred_Y, average='micro'))\n",
    "print('\\n f1', f1_score(test_Y, pred_Y, average='micro'))\n",
    "\n",
    "# alternatively, they can also be computed from the confusion matrix, accoding to the lecture slides:\n",
    "\n",
    "print('\\n accuracy from confusion matrix', (cm[0,0]+cm[1,1]) / (cm[0,0]+cm[0,1]+cm[1,0]+ cm[1,1]))\n",
    "print('\\n precision from confusion matrix', (cm[1,1]) / (cm[0,1]+cm[1,1]))\n",
    "print('\\n recall (sensitivity) from confusion matrix', (cm[1,1]) / (cm[1,0]+cm[1,1]))\n",
    "print('\\n specificity from confusion matrix', (cm[0,0]) / (cm[0,1]+cm[0,0]))\n",
    "\n",
    "# Adding a confusion matrix visualisation plug in.\n",
    "sns.heatmap(cm,xticklabels =xticklabels,yticklabels =xticklabels,annot=True,fmt='d')"
   ]
  },
  {
   "cell_type": "markdown",
   "metadata": {
    "id": "Eoc85I_fEW4x"
   },
   "source": [
    "#Bagging Classifier"
   ]
  },
  {
   "cell_type": "code",
   "execution_count": 15,
   "metadata": {
    "colab": {
     "base_uri": "https://localhost:8080/"
    },
    "id": "gDH8HEiv3i43",
    "outputId": "d087e268-c093-4115-d03d-260e0ce7190a"
   },
   "outputs": [
    {
     "name": "stdout",
     "output_type": "stream",
     "text": [
      "Accuracy on the 5 folds [0.86690647 0.8705036  0.89928058 0.88808664 0.85559567]\n",
      "Mean Accuracy:  0.8760745915902657\n"
     ]
    }
   ],
   "source": [
    "bg       = BaggingClassifier(DecisionTreeClassifier())\n",
    "scores   = cross_val_score(bg, train_X, train_Y, scoring='accuracy', cv=5)\n",
    "print('Accuracy on the 5 folds', scores)\n",
    "print('Mean Accuracy: ', np.mean(scores))"
   ]
  },
  {
   "cell_type": "code",
   "execution_count": 16,
   "metadata": {
    "colab": {
     "base_uri": "https://localhost:8080/"
    },
    "id": "YXEt2B_I30kR",
    "outputId": "4a711e50-da78-4669-d37e-6f7ca7387b33"
   },
   "outputs": [
    {
     "name": "stdout",
     "output_type": "stream",
     "text": [
      "Accuracy on the 5 folds [0.8705036  0.86330935 0.9028777  0.90613718 0.88086643]\n",
      "Mean Accuracy:  0.8847388515180634\n"
     ]
    }
   ],
   "source": [
    "# with a large numbe of estimators we usually get a stable good bagging model; here we evaluate it in cross validation.\n",
    "bg.n_estimators  = 50 # by default 10 estimators (trees) are used\n",
    "scores           = cross_val_score(bg, train_X, train_Y, scoring='accuracy', cv=5)\n",
    "print('Accuracy on the 5 folds', scores)\n",
    "print('Mean Accuracy: ', np.mean(scores))"
   ]
  },
  {
   "cell_type": "code",
   "execution_count": 17,
   "metadata": {
    "colab": {
     "base_uri": "https://localhost:8080/",
     "height": 486
    },
    "id": "pZF9HDBj5F1P",
    "outputId": "93430e9f-5354-4ba2-f40b-a64ce9bea6a7"
   },
   "outputs": [
    {
     "name": "stdout",
     "output_type": "stream",
     "text": [
      "confusion matrix,  classes order is 0 and 1, actual values on rows, predicted values on columns \n",
      " [[135   0  19]\n",
      " [  0  66  21]\n",
      " [ 14   8 200]]\n",
      "\n",
      " accuracy 0.8660907127429806\n",
      "\n",
      " precision 0.8660907127429806\n",
      "\n",
      " recall (sensitivity) 0.8660907127429806\n",
      "\n",
      " f1 0.8660907127429806\n"
     ]
    },
    {
     "data": {
      "text/plain": [
       "<matplotlib.axes._subplots.AxesSubplot at 0x7fcbb51de6d8>"
      ]
     },
     "execution_count": 17,
     "metadata": {},
     "output_type": "execute_result"
    },
    {
     "data": {
      "image/png": "[encoded data removed]",
      "text/plain": [
       "<Figure size 432x288 with 2 Axes>"
      ]
     },
     "metadata": {
      "needs_background": "light"
     },
     "output_type": "display_data"
    }
   ],
   "source": [
    "bg.fit(train_X, train_Y)\n",
    "pred_Y=bg.predict(test_X)\n",
    "\n",
    "cm=confusion_matrix(test_Y, pred_Y) # confusion matrix\n",
    "print('confusion matrix,  classes order is 0 and 1, actual values on rows, predicted values on columns \\n', cm)\n",
    "print('\\n accuracy', accuracy_score(test_Y, pred_Y))\n",
    "print('\\n precision', precision_score(test_Y, pred_Y,average='micro'))\n",
    "print('\\n recall (sensitivity)', recall_score(test_Y, pred_Y,average='micro'))\n",
    "print('\\n f1', f1_score(test_Y, pred_Y,average='micro'))\n",
    "\n",
    "# Adding a confusion matrix visualisation plug in.\n",
    "sns.heatmap(cm,xticklabels =xticklabels,yticklabels =xticklabels,annot=True,fmt='d')"
   ]
  },
  {
   "cell_type": "markdown",
   "metadata": {
    "id": "PcfMRasCHUJB"
   },
   "source": [
    "#Random Forest Classifier"
   ]
  },
  {
   "cell_type": "code",
   "execution_count": 18,
   "metadata": {
    "colab": {
     "base_uri": "https://localhost:8080/"
    },
    "id": "ZXc_cMdDX7Al",
    "outputId": "b0104cdf-5345-4487-9c0d-a38ba92a1627"
   },
   "outputs": [
    {
     "name": "stdout",
     "output_type": "stream",
     "text": [
      "acuracy on the 5 folds [0.8381295  0.85971223 0.87410072 0.88808664 0.88447653]\n",
      "and their mean 0.8689011245876944\n"
     ]
    }
   ],
   "source": [
    "rf=RandomForestClassifier()\n",
    "scores=cross_val_score(rf, train_X, train_Y, scoring='accuracy', cv=5)\n",
    "print('acuracy on the 5 folds', scores)\n",
    "print('and their mean', np.mean(scores))"
   ]
  },
  {
   "cell_type": "code",
   "execution_count": 19,
   "metadata": {
    "colab": {
     "base_uri": "https://localhost:8080/"
    },
    "id": "3y8XMpBZYbao",
    "outputId": "c4555925-1c7b-46cc-c964-fc734c77ab32"
   },
   "outputs": [
    {
     "name": "stdout",
     "output_type": "stream",
     "text": [
      "acuracy on the 5 folds [0.84892086 0.85971223 0.87410072 0.90613718 0.88808664]\n",
      "and their mean 0.8753915279328883\n"
     ]
    }
   ],
   "source": [
    "rf.max_features = 7     #sqr root of features\n",
    "rf.n_estimators = 1000 \n",
    "scores=cross_val_score(rf, train_X, train_Y, scoring='accuracy', cv=5)\n",
    "print('acuracy on the 5 folds', scores)\n",
    "print('and their mean', np.mean(scores))"
   ]
  },
  {
   "cell_type": "code",
   "execution_count": 20,
   "metadata": {
    "colab": {
     "base_uri": "https://localhost:8080/"
    },
    "id": "E8iyl4NlY-9c",
    "outputId": "8a8c94d8-6f54-4355-8c3f-43f77482e987"
   },
   "outputs": [
    {
     "name": "stdout",
     "output_type": "stream",
     "text": [
      "best parameter values {'n_estimators': 1533}\n",
      "best estimator RandomForestClassifier(max_features=7, n_estimators=1533)\n",
      "0.8689037217879125 {'max_features': 'auto'}\n",
      "0.8674700672674855 {'max_features': 'sqrt'}\n",
      "0.8753941251331065 {'n_estimators': 600}\n",
      "0.8746747006726748 {'n_estimators': 755}\n",
      "0.8746747006726748 {'n_estimators': 911}\n",
      "0.8732280601511571 {'n_estimators': 1066}\n",
      "0.87611095239332 {'n_estimators': 1222}\n",
      "0.8746695062722385 {'n_estimators': 1377}\n",
      "0.8761135495935382 {'n_estimators': 1533}\n",
      "0.8689141105887852 {'n_estimators': 1688}\n",
      "0.8732306573513752 {'n_estimators': 1844}\n",
      "0.8732280601511571 {'n_estimators': 2000}\n"
     ]
    }
   ],
   "source": [
    "n_estimators = [int(x) for x in np.linspace(start = 600, stop = 2000, num = 10)]\n",
    "param_grid = [\n",
    "     {'max_features': ['auto','sqrt']},\n",
    "     {'n_estimators': n_estimators} ]\n",
    "\n",
    "grid_search = GridSearchCV(rf, param_grid, cv=5,\n",
    "                           scoring='accuracy',\n",
    "                           return_train_score=True,\n",
    "                            n_jobs=-1)   # notice n_jobs is number of jobs to run in parallel; when -1, all the processor capacity is used\n",
    "\n",
    "grid_search.fit(train_X, train_Y)\n",
    "print('best parameter values', grid_search.best_params_)\n",
    "print('best estimator', grid_search.best_estimator_)\n",
    "\n",
    "# display performances per each repetition of cross validation\n",
    "cvres = grid_search.cv_results_\n",
    "for mean_score, params in zip(cvres[\"mean_test_score\"], cvres[\"params\"]):\n",
    "    print(np.mean(mean_score), params)\n"
   ]
  },
  {
   "cell_type": "code",
   "execution_count": 21,
   "metadata": {
    "colab": {
     "base_uri": "https://localhost:8080/",
     "height": 486
    },
    "id": "9QaMZTodeaeu",
    "outputId": "bb5a0883-4883-4e1f-ec9d-09982a97a6d7"
   },
   "outputs": [
    {
     "name": "stdout",
     "output_type": "stream",
     "text": [
      "confusion matrix,  classes order is 0 and 1, actual values on rows, predicted values on columns \n",
      " [[137   0  17]\n",
      " [  0  65  22]\n",
      " [ 10   3 209]]\n",
      "\n",
      " accuracy 0.8876889848812095\n",
      "\n",
      " precision 0.8876889848812095\n",
      "\n",
      " recall (sensitivity) 0.8876889848812095\n",
      "\n",
      " f1 0.8876889848812095\n"
     ]
    },
    {
     "data": {
      "text/plain": [
       "<matplotlib.axes._subplots.AxesSubplot at 0x7fcbb53b3eb8>"
      ]
     },
     "execution_count": 21,
     "metadata": {},
     "output_type": "execute_result"
    },
    {
     "data": {
      "image/png": "[encoded data removed]",
      "text/plain": [
       "<Figure size 432x288 with 2 Axes>"
      ]
     },
     "metadata": {
      "needs_background": "light"
     },
     "output_type": "display_data"
    }
   ],
   "source": [
    "# evaluate best model from the grid on the test set\n",
    "\n",
    "best_rf=grid_search.best_estimator_\n",
    "pred_Y=best_rf.predict(test_X)\n",
    "\n",
    "cm=confusion_matrix(test_Y, pred_Y) # confusion matrix\n",
    "print('confusion matrix,  classes order is 0 and 1, actual values on rows, predicted values on columns \\n', cm)\n",
    "print('\\n accuracy', accuracy_score(test_Y, pred_Y))\n",
    "print('\\n precision', precision_score(test_Y, pred_Y,average='micro'))\n",
    "print('\\n recall (sensitivity)', recall_score(test_Y, pred_Y,average='micro'))\n",
    "print('\\n f1', f1_score(test_Y, pred_Y,average='micro'))\n",
    "# Adding a confusion matrix visualisation plug in.\n",
    "sns.heatmap(cm,xticklabels =xticklabels,yticklabels =xticklabels,annot=True,fmt='d')"
   ]
  },
  {
   "cell_type": "markdown",
   "metadata": {
    "id": "GXA2bi07IG1Z"
   },
   "source": [
    "#ADA Boost Classifier"
   ]
  },
  {
   "cell_type": "code",
   "execution_count": 22,
   "metadata": {
    "colab": {
     "base_uri": "https://localhost:8080/"
    },
    "id": "KKVnzlnk3F-Z",
    "outputId": "99f9aab0-f7d3-4bab-cf0c-dc62ffc1f978"
   },
   "outputs": [
    {
     "name": "stdout",
     "output_type": "stream",
     "text": [
      "acuracy on the 5 folds [0.8381295  0.85611511 0.87769784 0.90252708 0.88447653]\n",
      "and their mean 0.8717892112302937\n"
     ]
    }
   ],
   "source": [
    "ab=AdaBoostClassifier(DecisionTreeClassifier(max_depth=3))\n",
    "scores=cross_val_score(rf, train_X, train_Y, scoring='accuracy', cv=5)\n",
    "print('acuracy on the 5 folds', scores)\n",
    "print('and their mean', np.mean(scores))"
   ]
  },
  {
   "cell_type": "code",
   "execution_count": 23,
   "metadata": {
    "colab": {
     "base_uri": "https://localhost:8080/"
    },
    "id": "stgbrb4y3fM5",
    "outputId": "48f90b8b-bb16-4085-fc5b-2a622c41680d"
   },
   "outputs": [
    {
     "name": "stdout",
     "output_type": "stream",
     "text": [
      "acuracy on the 5 folds [0.84172662 0.85971223 0.88489209 0.90613718 0.88086643]\n",
      "and their mean 0.8746669090720204\n"
     ]
    }
   ],
   "source": [
    "ab.n_estimators=200\n",
    "ab.learning_rate=0.5\n",
    "scores=cross_val_score(rf, train_X, train_Y, scoring='accuracy', cv=5)\n",
    "print('acuracy on the 5 folds', scores)\n",
    "print('and their mean', np.mean(scores))"
   ]
  },
  {
   "cell_type": "code",
   "execution_count": 24,
   "metadata": {
    "colab": {
     "base_uri": "https://localhost:8080/"
    },
    "id": "JpziBc2D3zDQ",
    "outputId": "e72078de-77d6-4c46-c94d-6e6af2b9eccd"
   },
   "outputs": [
    {
     "name": "stdout",
     "output_type": "stream",
     "text": [
      "best parameter values {'learning_rate': 0.008, 'n_estimators': 120}\n",
      "best estimator AdaBoostClassifier(base_estimator=DecisionTreeClassifier(max_depth=3),\n",
      "                   learning_rate=0.008, n_estimators=120)\n",
      "0.8105316468846585 {'learning_rate': 0.001, 'n_estimators': 10}\n",
      "0.8105316468846585 {'learning_rate': 0.001, 'n_estimators': 20}\n",
      "0.8134197335272576 {'learning_rate': 0.001, 'n_estimators': 30}\n",
      "0.8134197335272576 {'learning_rate': 0.001, 'n_estimators': 40}\n",
      "0.8134197335272576 {'learning_rate': 0.001, 'n_estimators': 50}\n",
      "0.8141365607874711 {'learning_rate': 0.001, 'n_estimators': 60}\n",
      "0.8220787990546192 {'learning_rate': 0.001, 'n_estimators': 70}\n",
      "0.8256759213567774 {'learning_rate': 0.001, 'n_estimators': 80}\n",
      "0.8213437913928784 {'learning_rate': 0.001, 'n_estimators': 90}\n",
      "0.8235098563748279 {'learning_rate': 0.001, 'n_estimators': 100}\n",
      "0.8285640079993767 {'learning_rate': 0.001, 'n_estimators': 110}\n",
      "0.8285640079993767 {'learning_rate': 0.001, 'n_estimators': 120}\n",
      "0.8321689219021895 {'learning_rate': 0.001, 'n_estimators': 130}\n",
      "0.8336051736228347 {'learning_rate': 0.001, 'n_estimators': 140}\n",
      "0.8451471313923591 {'learning_rate': 0.001, 'n_estimators': 150}\n",
      "0.8451497285925772 {'learning_rate': 0.001, 'n_estimators': 160}\n",
      "0.8451393397917046 {'learning_rate': 0.001, 'n_estimators': 170}\n",
      "0.8458613614523545 {'learning_rate': 0.001, 'n_estimators': 180}\n",
      "0.8451393397917046 {'learning_rate': 0.001, 'n_estimators': 190}\n",
      "0.8126977118666078 {'learning_rate': 0.005, 'n_estimators': 10}\n",
      "0.8256759213567774 {'learning_rate': 0.005, 'n_estimators': 20}\n",
      "0.8444303041321456 {'learning_rate': 0.005, 'n_estimators': 30}\n",
      "0.8465833831130043 {'learning_rate': 0.005, 'n_estimators': 40}\n",
      "0.8516245487364621 {'learning_rate': 0.005, 'n_estimators': 50}\n",
      "0.8545100381788432 {'learning_rate': 0.005, 'n_estimators': 60}\n",
      "0.8494610809547307 {'learning_rate': 0.005, 'n_estimators': 70}\n",
      "0.8458457782510453 {'learning_rate': 0.005, 'n_estimators': 80}\n",
      "0.8508869438745033 {'learning_rate': 0.005, 'n_estimators': 90}\n",
      "0.8516037711347166 {'learning_rate': 0.005, 'n_estimators': 100}\n",
      "0.847274238371036 {'learning_rate': 0.005, 'n_estimators': 110}\n",
      "0.8508739578734126 {'learning_rate': 0.005, 'n_estimators': 120}\n",
      "0.8508765550736307 {'learning_rate': 0.005, 'n_estimators': 130}\n",
      "0.8523205983949304 {'learning_rate': 0.005, 'n_estimators': 140}\n",
      "0.8552034906370933 {'learning_rate': 0.005, 'n_estimators': 150}\n",
      "0.8523205983949304 {'learning_rate': 0.005, 'n_estimators': 160}\n",
      "0.8537542529153572 {'learning_rate': 0.005, 'n_estimators': 170}\n",
      "0.8501519362127627 {'learning_rate': 0.005, 'n_estimators': 180}\n",
      "0.852315403994494 {'learning_rate': 0.005, 'n_estimators': 190}\n",
      "0.8191777264109289 {'learning_rate': 0.008, 'n_estimators': 10}\n",
      "0.8437082824714958 {'learning_rate': 0.008, 'n_estimators': 20}\n",
      "0.8494584837545126 {'learning_rate': 0.008, 'n_estimators': 30}\n",
      "0.8552346570397112 {'learning_rate': 0.008, 'n_estimators': 40}\n",
      "0.8487390592940809 {'learning_rate': 0.008, 'n_estimators': 50}\n",
      "0.8552112822377478 {'learning_rate': 0.008, 'n_estimators': 60}\n",
      "0.8566397423577385 {'learning_rate': 0.008, 'n_estimators': 70}\n",
      "0.8551931018362205 {'learning_rate': 0.008, 'n_estimators': 80}\n",
      "0.854476274576007 {'learning_rate': 0.008, 'n_estimators': 90}\n",
      "0.8530400228553621 {'learning_rate': 0.008, 'n_estimators': 100}\n",
      "0.8537620445160117 {'learning_rate': 0.008, 'n_estimators': 110}\n",
      "0.8595278290003376 {'learning_rate': 0.008, 'n_estimators': 120}\n",
      "0.8580863828792562 {'learning_rate': 0.008, 'n_estimators': 130}\n",
      "0.8544840661766617 {'learning_rate': 0.008, 'n_estimators': 140}\n",
      "0.854489260577098 {'learning_rate': 0.008, 'n_estimators': 150}\n",
      "0.8444121237306185 {'learning_rate': 0.008, 'n_estimators': 160}\n",
      "0.8379321091862971 {'learning_rate': 0.008, 'n_estimators': 170}\n",
      "0.838654130846947 {'learning_rate': 0.008, 'n_estimators': 180}\n",
      "0.8285614107991585 {'learning_rate': 0.008, 'n_estimators': 190}\n",
      "0.8278419863387269 {'learning_rate': 0.01, 'n_estimators': 10}\n",
      "0.8480222320338676 {'learning_rate': 0.01, 'n_estimators': 20}\n",
      "0.8516245487364621 {'learning_rate': 0.01, 'n_estimators': 30}\n",
      "0.8487416564942991 {'learning_rate': 0.01, 'n_estimators': 40}\n",
      "0.8480014544321224 {'learning_rate': 0.01, 'n_estimators': 50}\n",
      "0.8479962600316859 {'learning_rate': 0.01, 'n_estimators': 60}\n",
      "0.8523180011947122 {'learning_rate': 0.01, 'n_estimators': 70}\n",
      "0.8501545334129809 {'learning_rate': 0.01, 'n_estimators': 80}\n",
      "0.8537542529153572 {'learning_rate': 0.01, 'n_estimators': 90}\n",
      "0.8487104900916812 {'learning_rate': 0.01, 'n_estimators': 100}\n",
      "0.8487182816923357 {'learning_rate': 0.01, 'n_estimators': 110}\n",
      "0.8451211593901775 {'learning_rate': 0.01, 'n_estimators': 120}\n",
      "0.840796821026933 {'learning_rate': 0.01, 'n_estimators': 130}\n",
      "0.833594784821962 {'learning_rate': 0.01, 'n_estimators': 140}\n",
      "0.8343090148819574 {'learning_rate': 0.01, 'n_estimators': 150}\n",
      "0.8335869932213074 {'learning_rate': 0.01, 'n_estimators': 160}\n",
      "0.8328571799600031 {'learning_rate': 0.01, 'n_estimators': 170}\n",
      "0.8292548632574086 {'learning_rate': 0.01, 'n_estimators': 180}\n",
      "0.8249357192946004 {'learning_rate': 0.01, 'n_estimators': 190}\n"
     ]
    }
   ],
   "source": [
    "param_grid = {\n",
    "     'n_estimators': np.arange(10,200,10),\n",
    "     'learning_rate': [0.001,0.005,0.008,0.01]\n",
    " }\n",
    "grid_search = GridSearchCV(ab, param_grid, scoring='accuracy', cv=5, n_jobs=-1)\n",
    "grid_search.fit(train_X,train_Y)\n",
    "grid_search.best_params_\n",
    "print('best parameter values', grid_search.best_params_)\n",
    "print('best estimator', grid_search.best_estimator_)\n",
    "\n",
    "# display performances per each repetition of cross validation\n",
    "cvres = grid_search.cv_results_\n",
    "for mean_score, params in zip(cvres[\"mean_test_score\"], cvres[\"params\"]):\n",
    "    print(np.mean(mean_score), params)\n",
    "    "
   ]
  },
  {
   "cell_type": "code",
   "execution_count": 25,
   "metadata": {
    "colab": {
     "base_uri": "https://localhost:8080/",
     "height": 486
    },
    "id": "91JE6OS67OVR",
    "outputId": "1f44b5e9-65eb-4d0e-908d-149179991ec6"
   },
   "outputs": [
    {
     "name": "stdout",
     "output_type": "stream",
     "text": [
      "confusion matrix,  classes order is 0 and 1, actual values on rows, predicted values on columns \n",
      " [[137   0  17]\n",
      " [  0  65  22]\n",
      " [ 10   3 209]]\n",
      "\n",
      " accuracy 0.8876889848812095\n",
      "\n",
      " precision 0.8876889848812095\n",
      "\n",
      " recall (sensitivity) 0.8876889848812095\n",
      "\n",
      " f1 0.8876889848812095\n"
     ]
    },
    {
     "data": {
      "text/plain": [
       "<matplotlib.axes._subplots.AxesSubplot at 0x7fcbb5622518>"
      ]
     },
     "execution_count": 25,
     "metadata": {},
     "output_type": "execute_result"
    },
    {
     "data": {
      "image/png": "[encoded data removed]",
      "text/plain": [
       "<Figure size 432x288 with 2 Axes>"
      ]
     },
     "metadata": {
      "needs_background": "light"
     },
     "output_type": "display_data"
    }
   ],
   "source": [
    "best_ab=grid_search.best_estimator_\n",
    "pred_Y=best_rf.predict(test_X)\n",
    "\n",
    "cm=confusion_matrix(test_Y, pred_Y) # confusion matrix\n",
    "print('confusion matrix,  classes order is 0 and 1, actual values on rows, predicted values on columns \\n', cm)\n",
    "print('\\n accuracy', accuracy_score(test_Y, pred_Y))\n",
    "print('\\n precision', precision_score(test_Y, pred_Y,average='micro'))\n",
    "print('\\n recall (sensitivity)', recall_score(test_Y, pred_Y,average='micro'))\n",
    "print('\\n f1', f1_score(test_Y, pred_Y,average='micro'))\n",
    "# Adding a confusion matrix visualisation plug in.\n",
    "sns.heatmap(cm,xticklabels =xticklabels,yticklabels =xticklabels,annot=True,fmt='d')"
   ]
  },
  {
   "cell_type": "markdown",
   "metadata": {
    "id": "Yw-duTN8LwQZ"
   },
   "source": [
    "#  (2.b) CN vs. Dementia; "
   ]
  },
  {
   "cell_type": "code",
   "execution_count": 26,
   "metadata": {
    "colab": {
     "base_uri": "https://localhost:8080/",
     "height": 317
    },
    "id": "jQmdIcNdL97a",
    "outputId": "7f58b1bc-8be3-4588-8b0f-27ca82cd1afc"
   },
   "outputs": [
    {
     "data": {
      "text/html": [
       "<div>\n",
       "<style scoped>\n",
       "    .dataframe tbody tr th:only-of-type {\n",
       "        vertical-align: middle;\n",
       "    }\n",
       "\n",
       "    .dataframe tbody tr th {\n",
       "        vertical-align: top;\n",
       "    }\n",
       "\n",
       "    .dataframe thead th {\n",
       "        text-align: right;\n",
       "    }\n",
       "</style>\n",
       "<table border=\"1\" class=\"dataframe\">\n",
       "  <thead>\n",
       "    <tr style=\"text-align: right;\">\n",
       "      <th></th>\n",
       "      <th>DIAGNOSIS</th>\n",
       "      <th>AGE</th>\n",
       "      <th>PTGENDER</th>\n",
       "      <th>PTEDUCAT</th>\n",
       "      <th>PTMARRY</th>\n",
       "      <th>ADAS11.bl</th>\n",
       "      <th>ADAS13.bl</th>\n",
       "      <th>ADASQ4.bl</th>\n",
       "      <th>MMSE.bl</th>\n",
       "      <th>RAVLT.immediate.bl</th>\n",
       "      <th>...</th>\n",
       "      <th>EcogSPLang.bl</th>\n",
       "      <th>EcogSPVisspat.bl</th>\n",
       "      <th>EcogSPPlan.bl</th>\n",
       "      <th>EcogSPOrgan.bl</th>\n",
       "      <th>EcogSPDivatt.bl</th>\n",
       "      <th>EcogSPTotal.bl</th>\n",
       "      <th>ABETA.bl</th>\n",
       "      <th>TAU.bl</th>\n",
       "      <th>PTAU.bl</th>\n",
       "      <th>FDG.bl</th>\n",
       "    </tr>\n",
       "  </thead>\n",
       "  <tbody>\n",
       "    <tr>\n",
       "      <th>count</th>\n",
       "      <td>965.000000</td>\n",
       "      <td>965.000000</td>\n",
       "      <td>965.000000</td>\n",
       "      <td>965.000000</td>\n",
       "      <td>965.000000</td>\n",
       "      <td>961.000000</td>\n",
       "      <td>954.000000</td>\n",
       "      <td>964.000000</td>\n",
       "      <td>965.000000</td>\n",
       "      <td>958.000000</td>\n",
       "      <td>...</td>\n",
       "      <td>535.000000</td>\n",
       "      <td>529.000000</td>\n",
       "      <td>530.000000</td>\n",
       "      <td>520.000000</td>\n",
       "      <td>527.000000</td>\n",
       "      <td>535.000000</td>\n",
       "      <td>598.000000</td>\n",
       "      <td>598.000000</td>\n",
       "      <td>598.000000</td>\n",
       "      <td>637.000000</td>\n",
       "    </tr>\n",
       "    <tr>\n",
       "      <th>mean</th>\n",
       "      <td>0.360622</td>\n",
       "      <td>74.122902</td>\n",
       "      <td>1.491192</td>\n",
       "      <td>15.986528</td>\n",
       "      <td>1.448705</td>\n",
       "      <td>11.228585</td>\n",
       "      <td>16.998606</td>\n",
       "      <td>4.889004</td>\n",
       "      <td>26.972021</td>\n",
       "      <td>37.141962</td>\n",
       "      <td>...</td>\n",
       "      <td>1.523112</td>\n",
       "      <td>1.456729</td>\n",
       "      <td>1.546132</td>\n",
       "      <td>1.640673</td>\n",
       "      <td>1.743201</td>\n",
       "      <td>1.632959</td>\n",
       "      <td>1001.065552</td>\n",
       "      <td>286.948043</td>\n",
       "      <td>27.430836</td>\n",
       "      <td>1.220888</td>\n",
       "    </tr>\n",
       "    <tr>\n",
       "      <th>std</th>\n",
       "      <td>0.480430</td>\n",
       "      <td>6.751212</td>\n",
       "      <td>0.500182</td>\n",
       "      <td>2.827478</td>\n",
       "      <td>0.856214</td>\n",
       "      <td>7.934275</td>\n",
       "      <td>11.374172</td>\n",
       "      <td>3.275689</td>\n",
       "      <td>3.233038</td>\n",
       "      <td>14.129743</td>\n",
       "      <td>...</td>\n",
       "      <td>0.763670</td>\n",
       "      <td>0.776271</td>\n",
       "      <td>0.849922</td>\n",
       "      <td>0.925348</td>\n",
       "      <td>0.981649</td>\n",
       "      <td>0.812644</td>\n",
       "      <td>478.304409</td>\n",
       "      <td>130.861812</td>\n",
       "      <td>14.150128</td>\n",
       "      <td>0.172176</td>\n",
       "    </tr>\n",
       "    <tr>\n",
       "      <th>min</th>\n",
       "      <td>0.000000</td>\n",
       "      <td>55.100000</td>\n",
       "      <td>1.000000</td>\n",
       "      <td>4.000000</td>\n",
       "      <td>1.000000</td>\n",
       "      <td>0.000000</td>\n",
       "      <td>0.000000</td>\n",
       "      <td>0.000000</td>\n",
       "      <td>18.000000</td>\n",
       "      <td>0.000000</td>\n",
       "      <td>...</td>\n",
       "      <td>1.000000</td>\n",
       "      <td>1.000000</td>\n",
       "      <td>1.000000</td>\n",
       "      <td>1.000000</td>\n",
       "      <td>1.000000</td>\n",
       "      <td>1.000000</td>\n",
       "      <td>199.000000</td>\n",
       "      <td>79.000000</td>\n",
       "      <td>7.000000</td>\n",
       "      <td>0.697264</td>\n",
       "    </tr>\n",
       "    <tr>\n",
       "      <th>25%</th>\n",
       "      <td>0.000000</td>\n",
       "      <td>69.900000</td>\n",
       "      <td>1.000000</td>\n",
       "      <td>14.000000</td>\n",
       "      <td>1.000000</td>\n",
       "      <td>5.330000</td>\n",
       "      <td>8.330000</td>\n",
       "      <td>2.000000</td>\n",
       "      <td>25.000000</td>\n",
       "      <td>26.000000</td>\n",
       "      <td>...</td>\n",
       "      <td>1.000000</td>\n",
       "      <td>1.000000</td>\n",
       "      <td>1.000000</td>\n",
       "      <td>1.000000</td>\n",
       "      <td>1.000000</td>\n",
       "      <td>1.026316</td>\n",
       "      <td>578.475000</td>\n",
       "      <td>194.375000</td>\n",
       "      <td>17.290000</td>\n",
       "      <td>1.118772</td>\n",
       "    </tr>\n",
       "    <tr>\n",
       "      <th>50%</th>\n",
       "      <td>0.000000</td>\n",
       "      <td>73.900000</td>\n",
       "      <td>1.000000</td>\n",
       "      <td>16.000000</td>\n",
       "      <td>1.000000</td>\n",
       "      <td>9.000000</td>\n",
       "      <td>13.000000</td>\n",
       "      <td>4.000000</td>\n",
       "      <td>29.000000</td>\n",
       "      <td>38.000000</td>\n",
       "      <td>...</td>\n",
       "      <td>1.111111</td>\n",
       "      <td>1.000000</td>\n",
       "      <td>1.000000</td>\n",
       "      <td>1.000000</td>\n",
       "      <td>1.250000</td>\n",
       "      <td>1.216216</td>\n",
       "      <td>875.800000</td>\n",
       "      <td>260.950000</td>\n",
       "      <td>24.195000</td>\n",
       "      <td>1.242320</td>\n",
       "    </tr>\n",
       "    <tr>\n",
       "      <th>75%</th>\n",
       "      <td>1.000000</td>\n",
       "      <td>78.600000</td>\n",
       "      <td>2.000000</td>\n",
       "      <td>18.000000</td>\n",
       "      <td>2.000000</td>\n",
       "      <td>16.000000</td>\n",
       "      <td>25.330000</td>\n",
       "      <td>8.000000</td>\n",
       "      <td>30.000000</td>\n",
       "      <td>48.000000</td>\n",
       "      <td>...</td>\n",
       "      <td>1.777778</td>\n",
       "      <td>1.571429</td>\n",
       "      <td>1.800000</td>\n",
       "      <td>2.000000</td>\n",
       "      <td>2.000000</td>\n",
       "      <td>2.013158</td>\n",
       "      <td>1478.500000</td>\n",
       "      <td>354.375000</td>\n",
       "      <td>33.592500</td>\n",
       "      <td>1.338230</td>\n",
       "    </tr>\n",
       "    <tr>\n",
       "      <th>max</th>\n",
       "      <td>1.000000</td>\n",
       "      <td>90.900000</td>\n",
       "      <td>2.000000</td>\n",
       "      <td>20.000000</td>\n",
       "      <td>5.000000</td>\n",
       "      <td>42.670000</td>\n",
       "      <td>54.670000</td>\n",
       "      <td>10.000000</td>\n",
       "      <td>30.000000</td>\n",
       "      <td>71.000000</td>\n",
       "      <td>...</td>\n",
       "      <td>4.000000</td>\n",
       "      <td>4.000000</td>\n",
       "      <td>4.000000</td>\n",
       "      <td>4.000000</td>\n",
       "      <td>4.000000</td>\n",
       "      <td>3.948718</td>\n",
       "      <td>1701.000000</td>\n",
       "      <td>851.600000</td>\n",
       "      <td>94.860000</td>\n",
       "      <td>1.673384</td>\n",
       "    </tr>\n",
       "  </tbody>\n",
       "</table>\n",
       "<p>8 rows × 45 columns</p>\n",
       "</div>"
      ],
      "text/plain": [
       "        DIAGNOSIS         AGE    PTGENDER    PTEDUCAT     PTMARRY   ADAS11.bl  \\\n",
       "count  965.000000  965.000000  965.000000  965.000000  965.000000  961.000000   \n",
       "mean     0.360622   74.122902    1.491192   15.986528    1.448705   11.228585   \n",
       "std      0.480430    6.751212    0.500182    2.827478    0.856214    7.934275   \n",
       "min      0.000000   55.100000    1.000000    4.000000    1.000000    0.000000   \n",
       "25%      0.000000   69.900000    1.000000   14.000000    1.000000    5.330000   \n",
       "50%      0.000000   73.900000    1.000000   16.000000    1.000000    9.000000   \n",
       "75%      1.000000   78.600000    2.000000   18.000000    2.000000   16.000000   \n",
       "max      1.000000   90.900000    2.000000   20.000000    5.000000   42.670000   \n",
       "\n",
       "        ADAS13.bl   ADASQ4.bl     MMSE.bl  RAVLT.immediate.bl     ...      \\\n",
       "count  954.000000  964.000000  965.000000          958.000000     ...       \n",
       "mean    16.998606    4.889004   26.972021           37.141962     ...       \n",
       "std     11.374172    3.275689    3.233038           14.129743     ...       \n",
       "min      0.000000    0.000000   18.000000            0.000000     ...       \n",
       "25%      8.330000    2.000000   25.000000           26.000000     ...       \n",
       "50%     13.000000    4.000000   29.000000           38.000000     ...       \n",
       "75%     25.330000    8.000000   30.000000           48.000000     ...       \n",
       "max     54.670000   10.000000   30.000000           71.000000     ...       \n",
       "\n",
       "       EcogSPLang.bl  EcogSPVisspat.bl  EcogSPPlan.bl  EcogSPOrgan.bl  \\\n",
       "count     535.000000        529.000000     530.000000      520.000000   \n",
       "mean        1.523112          1.456729       1.546132        1.640673   \n",
       "std         0.763670          0.776271       0.849922        0.925348   \n",
       "min         1.000000          1.000000       1.000000        1.000000   \n",
       "25%         1.000000          1.000000       1.000000        1.000000   \n",
       "50%         1.111111          1.000000       1.000000        1.000000   \n",
       "75%         1.777778          1.571429       1.800000        2.000000   \n",
       "max         4.000000          4.000000       4.000000        4.000000   \n",
       "\n",
       "       EcogSPDivatt.bl  EcogSPTotal.bl     ABETA.bl      TAU.bl     PTAU.bl  \\\n",
       "count       527.000000      535.000000   598.000000  598.000000  598.000000   \n",
       "mean          1.743201        1.632959  1001.065552  286.948043   27.430836   \n",
       "std           0.981649        0.812644   478.304409  130.861812   14.150128   \n",
       "min           1.000000        1.000000   199.000000   79.000000    7.000000   \n",
       "25%           1.000000        1.026316   578.475000  194.375000   17.290000   \n",
       "50%           1.250000        1.216216   875.800000  260.950000   24.195000   \n",
       "75%           2.000000        2.013158  1478.500000  354.375000   33.592500   \n",
       "max           4.000000        3.948718  1701.000000  851.600000   94.860000   \n",
       "\n",
       "           FDG.bl  \n",
       "count  637.000000  \n",
       "mean     1.220888  \n",
       "std      0.172176  \n",
       "min      0.697264  \n",
       "25%      1.118772  \n",
       "50%      1.242320  \n",
       "75%      1.338230  \n",
       "max      1.673384  \n",
       "\n",
       "[8 rows x 45 columns]"
      ]
     },
     "execution_count": 26,
     "metadata": {},
     "output_type": "execute_result"
    }
   ],
   "source": [
    "# Running the analyses for classifying (CN) vs (Dementia)\n",
    "# Removing cases with diagnostics of MCI _ 2.\n",
    "df3 = df2.loc[df2['DIAGNOSIS'] != 2].copy()\n",
    "df3.describe()"
   ]
  },
  {
   "cell_type": "code",
   "execution_count": 27,
   "metadata": {
    "id": "WeQ4zvsyN_BD"
   },
   "outputs": [],
   "source": [
    "#Data stratification.\n",
    "train,test = train_test_split(df3, test_size=0.25, random_state=0, stratify=df3['DIAGNOSIS']) \n",
    "\n",
    "# separate the 'Outcome' column from training/testing data\n",
    "train_X = train[train.columns[1:47]]\n",
    "test_X  = test[test.columns[1:47]]\n",
    "\n",
    "train_Y = train['DIAGNOSIS']\n",
    "test_Y  = test['DIAGNOSIS']\n",
    "\n",
    "# Data imputation \n",
    "#  replaced null values of train and test dataset with corresponding means in the train dataset.\n",
    "\n",
    "meanofparameters = train_X.mean(skipna = True)\n",
    "train_X          = train_X.fillna(meanofparameters)\n",
    "test_X           = test_X.fillna(meanofparameters)"
   ]
  },
  {
   "cell_type": "code",
   "execution_count": 28,
   "metadata": {
    "colab": {
     "base_uri": "https://localhost:8080/",
     "height": 843
    },
    "id": "xa02DkhJPJEI",
    "outputId": "2c174410-c651-4376-b4c7-5cd96d2a8175"
   },
   "outputs": [
    {
     "name": "stdout",
     "output_type": "stream",
     "text": [
      "acuracy on the 5 folds [0.9862069  0.9862069  0.9862069  0.99305556 0.99305556]\n",
      "and their mean 0.9889463601532567\n",
      "{4} acuracy on the 5 folds of CV [0.9862069  0.97931034 0.9862069  0.96527778 0.99305556]\n",
      "and their mean 0.9820114942528735\n",
      "\u001b[1m\n",
      " Results after grid search \n",
      "\u001b[0m\n",
      "best parameter values {'max_depth': 3}\n",
      "best estimator DecisionTreeClassifier(max_depth=3)\n",
      "confusion matrix,  classes order is 0 and 1, actual values on raws, predicted values on columns \n",
      " [[155   0]\n",
      " [  2  85]]\n",
      "\n",
      " accuracy 0.9917355371900827\n",
      "\n",
      " precision 1.0\n",
      "\n",
      " recall (sensitivity) 0.9770114942528736\n",
      "\n",
      " f1 0.9883720930232558\n",
      "\n",
      " accuracy from confusion matrix 0.9917355371900827\n",
      "\n",
      " precision from confusion matrix 1.0\n",
      "\n",
      " recall (sensitivity) from confusion matrix 0.9770114942528736\n",
      "\n",
      " specificity from confusion matrix 1.0\n"
     ]
    },
    {
     "data": {
      "text/plain": [
       "<matplotlib.axes._subplots.AxesSubplot at 0x7fcbb0921908>"
      ]
     },
     "execution_count": 28,
     "metadata": {},
     "output_type": "execute_result"
    },
    {
     "data": {
      "image/png": "[encoded data removed]",
      "text/plain": [
       "<Figure size 432x288 with 2 Axes>"
      ]
     },
     "metadata": {
      "needs_background": "light"
     },
     "output_type": "display_data"
    }
   ],
   "source": [
    "#Decision Tree Classifier\n",
    "dt = tree.DecisionTreeClassifier()\n",
    "scores=cross_val_score(dt, train_X, train_Y, scoring='accuracy', cv=5)\n",
    "print('acuracy on the 5 folds', scores)\n",
    "print('and their mean', np.mean(scores))\n",
    "\n",
    "dt.max_depth = 4\n",
    "scores = cross_val_score(dt, train_X, train_Y, scoring='accuracy', cv=5)\n",
    "print('{4} acuracy on the 5 folds of CV', scores)\n",
    "print('and their mean', np.mean(scores))\n",
    "\n",
    "print('\\033[1m' + '\\n Results after grid search \\n' + '\\033[0m')\n",
    "\n",
    "#Grid search\n",
    "param_grid = [\n",
    "     {'max_depth': [2, 3, 4, 5, 6, 7, 8]} ]\n",
    "\n",
    "grid_search = GridSearchCV(dt, param_grid, cv=5,\n",
    "                           scoring='accuracy',\n",
    "                           return_train_score=True)\n",
    "\n",
    "grid_search.fit(train_X, train_Y)\n",
    "print('best parameter values', grid_search.best_params_)\n",
    "print('best estimator', grid_search.best_estimator_)\n",
    "best_dt=grid_search.best_estimator_\n",
    "pred_Y=best_dt.predict(test_X)\n",
    "\n",
    "cm=confusion_matrix(test_Y, pred_Y) # confusion matrix\n",
    "print('confusion matrix,  classes order is 0 and 1, actual values on raws, predicted values on columns \\n', cm)\n",
    "print('\\n accuracy', accuracy_score(test_Y, pred_Y))\n",
    "print('\\n precision', precision_score(test_Y, pred_Y))\n",
    "print('\\n recall (sensitivity)', recall_score(test_Y, pred_Y))\n",
    "print('\\n f1', f1_score(test_Y, pred_Y))\n",
    "\n",
    "# alternatively, they can also be computed from the confusion matrix, accoding to the lecture slides:\n",
    "\n",
    "print( '\\n accuracy from confusion matrix', (cm[0,0]+cm[1,1]) / (cm[0,0]+cm[0,1]+cm[1,0]+ cm[1,1]) )\n",
    "print( '\\n precision from confusion matrix', (cm[1,1]) / (cm[0,1]+cm[1,1]) )\n",
    "print( '\\n recall (sensitivity) from confusion matrix', (cm[1,1]) / (cm[1,0]+cm[1,1]) )\n",
    "print( '\\n specificity from confusion matrix', (cm[0,0]) / (cm[0,1]+cm[0,0]) )\n",
    "sns.heatmap(cm,xticklabels =xticklabels,yticklabels =xticklabels,annot=True,fmt='d')"
   ]
  },
  {
   "cell_type": "code",
   "execution_count": null,
   "metadata": {
    "id": "Xr3evoI-UpIP"
   },
   "outputs": [],
   "source": []
  },
  {
   "cell_type": "code",
   "execution_count": 29,
   "metadata": {
    "colab": {
     "base_uri": "https://localhost:8080/",
     "height": 537
    },
    "id": "mFNQRBpIQNBg",
    "outputId": "2ae1e652-099f-4c11-c02e-b448ec80b675"
   },
   "outputs": [
    {
     "name": "stdout",
     "output_type": "stream",
     "text": [
      "acuracy on the 5 folds [0.99310345 0.9862069  0.99310345 0.99305556 0.99305556]\n",
      "and their mean 0.9917049808429118\n",
      "for n_estimators 100;acuracy on the 5 folds [0.9862069  0.9862069  0.99310345 1.         1.        ]\n",
      "and their mean 0.993103448275862\n",
      "confusion matrix,  classes order is 0 and 1, actual values on rows, predicted values on columns \n",
      " [[154   1]\n",
      " [  1  86]]\n",
      "\n",
      " accuracy 0.9917355371900827\n",
      "\n",
      " precision 0.9885057471264368\n",
      "\n",
      " recall (sensitivity) 0.9885057471264368\n",
      "\n",
      " f1 0.9885057471264368\n"
     ]
    },
    {
     "data": {
      "text/plain": [
       "<matplotlib.axes._subplots.AxesSubplot at 0x7fcbb09288d0>"
      ]
     },
     "execution_count": 29,
     "metadata": {},
     "output_type": "execute_result"
    },
    {
     "data": {
      "image/png": "[encoded data removed]",
      "text/plain": [
       "<Figure size 432x288 with 2 Axes>"
      ]
     },
     "metadata": {
      "needs_background": "light"
     },
     "output_type": "display_data"
    }
   ],
   "source": [
    "#Bagging.\n",
    "bg=BaggingClassifier(DecisionTreeClassifier())\n",
    "scores=cross_val_score(bg, train_X, train_Y, scoring='accuracy', cv=5)\n",
    "print('acuracy on the 5 folds', scores)\n",
    "print('and their mean', np.mean(scores))\n",
    "\n",
    "bg.n_estimators=100 # by default 10 estimators (trees) are used\n",
    "scores=cross_val_score(bg, train_X, train_Y, scoring='accuracy', cv=5)\n",
    "print('for n_estimators 100;acuracy on the 5 folds', scores)\n",
    "print('and their mean', np.mean(scores))\n",
    "\n",
    "bg.fit(train_X, train_Y)\n",
    "pred_Y=bg.predict(test_X)\n",
    "\n",
    "cm=confusion_matrix(test_Y, pred_Y) # confusion matrix\n",
    "print('confusion matrix,  classes order is 0 and 1, actual values on rows, predicted values on columns \\n', cm)\n",
    "print('\\n accuracy', accuracy_score(test_Y, pred_Y))\n",
    "print('\\n precision', precision_score(test_Y, pred_Y))\n",
    "print('\\n recall (sensitivity)', recall_score(test_Y, pred_Y))\n",
    "print('\\n f1', f1_score(test_Y, pred_Y))\n",
    "sns.heatmap(cm,xticklabels =xticklabels,yticklabels =xticklabels,annot=True,fmt='d')"
   ]
  },
  {
   "cell_type": "code",
   "execution_count": 30,
   "metadata": {
    "colab": {
     "base_uri": "https://localhost:8080/",
     "height": 945
    },
    "id": "S1e2gBiJQ82r",
    "outputId": "57b83e13-2c4b-4aac-c28b-a106c872e63d",
    "tags": []
   },
   "outputs": [
    {
     "name": "stdout",
     "output_type": "stream",
     "text": [
      "acuracy on the 5 folds [0.9862069  0.99310345 0.99310345 1.         1.        ]\n",
      "and their mean 0.9944827586206897\n",
      "for max_features 7 and n_estimators 1000;acuracy on the 5 folds [0.99310345 0.99310345 0.99310345 1.         1.        ]\n",
      "and their mean 0.9958620689655172\n",
      "best parameter values {'max_features': 'auto'}\n",
      "best estimator RandomForestClassifier(n_estimators=1000)\n",
      "\u001b[1m\n",
      " Results after grid search \n",
      "\u001b[0m\n",
      "0.9958620689655172 {'max_features': 'auto'}\n",
      "0.9958620689655172 {'max_features': 'sqrt'}\n",
      "0.9958620689655172 {'n_estimators': 600}\n",
      "0.9944827586206897 {'n_estimators': 755}\n",
      "0.9958620689655172 {'n_estimators': 911}\n",
      "0.9958620689655172 {'n_estimators': 1066}\n",
      "0.9958620689655172 {'n_estimators': 1222}\n",
      "0.9958620689655172 {'n_estimators': 1377}\n",
      "0.9958620689655172 {'n_estimators': 1533}\n",
      "0.9958620689655172 {'n_estimators': 1688}\n",
      "0.9958620689655172 {'n_estimators': 1844}\n",
      "0.9958620689655172 {'n_estimators': 2000}\n",
      "confusion matrix,  classes order is 0 and 1, actual values on rows, predicted values on columns \n",
      " [[155   0]\n",
      " [  1  86]]\n",
      "\n",
      " accuracy 0.9958677685950413\n",
      "\n",
      " precision 1.0\n",
      "\n",
      " recall (sensitivity) 0.9885057471264368\n",
      "\n",
      " f1 0.9942196531791908\n"
     ]
    },
    {
     "data": {
      "text/plain": [
       "<matplotlib.axes._subplots.AxesSubplot at 0x7fcbba1c7470>"
      ]
     },
     "execution_count": 30,
     "metadata": {},
     "output_type": "execute_result"
    },
    {
     "data": {
      "image/png": "[encoded data removed]",
      "text/plain": [
       "<Figure size 432x288 with 2 Axes>"
      ]
     },
     "metadata": {
      "needs_background": "light"
     },
     "output_type": "display_data"
    }
   ],
   "source": [
    "#RandomForests.\n",
    "rf=RandomForestClassifier()\n",
    "scores=cross_val_score(rf, train_X, train_Y, scoring='accuracy', cv=5)\n",
    "print('acuracy on the 5 folds', scores)\n",
    "print('and their mean', np.mean(scores))\n",
    "\n",
    "rf.max_features = 7\n",
    "rf.n_estimators = 1000\n",
    "scores=cross_val_score(rf, train_X, train_Y, scoring='accuracy', cv=5)\n",
    "print('for max_features 7 and n_estimators 1000;acuracy on the 5 folds', scores)\n",
    "print('and their mean', np.mean(scores))\n",
    "\n",
    "#grid search.\n",
    "param_grid = [\n",
    "     {'max_features': ['auto','sqrt']},\n",
    "     {'n_estimators': n_estimators} ]\n",
    "\n",
    "grid_search = GridSearchCV(rf, param_grid, cv=5,\n",
    "                           scoring='accuracy',\n",
    "                           return_train_score=True,\n",
    "                            n_jobs=-1)   # notice n_jobs is number of jobs to run in parallel; when -1, all the processor capacity is used\n",
    "\n",
    "grid_search.fit(train_X, train_Y)\n",
    "print('best parameter values', grid_search.best_params_)\n",
    "print('best estimator', grid_search.best_estimator_)\n",
    "\n",
    "print('\\033[1m' + '\\n Results after grid search \\n' + '\\033[0m')\n",
    "\n",
    "# display performances per each repetition of cross validation\n",
    "cvres = grid_search.cv_results_\n",
    "for mean_score, params in zip(cvres[\"mean_test_score\"], cvres[\"params\"]):\n",
    "    print(np.mean(mean_score), params)\n",
    "\n",
    "\n",
    "best_rf=grid_search.best_estimator_\n",
    "pred_Y=best_rf.predict(test_X)\n",
    "cm=confusion_matrix(test_Y, pred_Y) # confusion matrix\n",
    "print('confusion matrix,  classes order is 0 and 1, actual values on rows, predicted values on columns \\n', cm)\n",
    "print('\\n accuracy', accuracy_score(test_Y, pred_Y))\n",
    "print('\\n precision', precision_score(test_Y, pred_Y))\n",
    "print('\\n recall (sensitivity)', recall_score(test_Y, pred_Y))\n",
    "print('\\n f1', f1_score(test_Y, pred_Y))\n",
    "sns.heatmap(cm,xticklabels =xticklabels,yticklabels =xticklabels,annot=True,fmt='d')"
   ]
  },
  {
   "cell_type": "code",
   "execution_count": 31,
   "metadata": {
    "colab": {
     "base_uri": "https://localhost:8080/",
     "height": 1000
    },
    "id": "oEjUog0cSYby",
    "outputId": "87d1c858-2156-415d-bbff-872e9e3a8f01"
   },
   "outputs": [
    {
     "name": "stdout",
     "output_type": "stream",
     "text": [
      "acuracy on the 5 folds [0.99310345 0.99310345 0.99310345 1.         1.        ]\n",
      "and their mean 0.9958620689655172\n",
      "for n_estimators=200 and learning rate 0.5, acuracy on the 5 folds [0.99310345 0.99310345 0.99310345 1.         1.        ]\n",
      "and their mean 0.9958620689655172\n",
      "\u001b[1m\n",
      " Results after grid search \n",
      "\u001b[0m\n",
      "best parameter values {'learning_rate': 0.5, 'n_estimators': 20}\n",
      "best estimator AdaBoostClassifier(base_estimator=DecisionTreeClassifier(max_depth=3),\n",
      "                   learning_rate=0.5, n_estimators=20)\n",
      "0.9889367816091955 {'learning_rate': 0.01, 'n_estimators': 10}\n",
      "0.9889367816091955 {'learning_rate': 0.01, 'n_estimators': 20}\n",
      "0.9861685823754789 {'learning_rate': 0.01, 'n_estimators': 30}\n",
      "0.9889367816091955 {'learning_rate': 0.01, 'n_estimators': 40}\n",
      "0.9889367816091955 {'learning_rate': 0.01, 'n_estimators': 50}\n",
      "0.9889367816091955 {'learning_rate': 0.01, 'n_estimators': 60}\n",
      "0.9875574712643678 {'learning_rate': 0.01, 'n_estimators': 70}\n",
      "0.9889367816091955 {'learning_rate': 0.01, 'n_estimators': 80}\n",
      "0.9889367816091955 {'learning_rate': 0.01, 'n_estimators': 90}\n",
      "0.9889367816091955 {'learning_rate': 0.01, 'n_estimators': 100}\n",
      "0.9889367816091955 {'learning_rate': 0.01, 'n_estimators': 110}\n",
      "0.9889367816091955 {'learning_rate': 0.01, 'n_estimators': 120}\n",
      "0.9889367816091955 {'learning_rate': 0.01, 'n_estimators': 130}\n",
      "0.9889367816091955 {'learning_rate': 0.01, 'n_estimators': 140}\n",
      "0.990316091954023 {'learning_rate': 0.01, 'n_estimators': 150}\n",
      "0.990316091954023 {'learning_rate': 0.01, 'n_estimators': 160}\n",
      "0.9889367816091955 {'learning_rate': 0.01, 'n_estimators': 170}\n",
      "0.9889367816091955 {'learning_rate': 0.01, 'n_estimators': 180}\n",
      "0.9875574712643678 {'learning_rate': 0.01, 'n_estimators': 190}\n",
      "0.9875478927203065 {'learning_rate': 0.05, 'n_estimators': 10}\n",
      "0.9875478927203065 {'learning_rate': 0.05, 'n_estimators': 20}\n",
      "0.9875478927203065 {'learning_rate': 0.05, 'n_estimators': 30}\n",
      "0.9875478927203065 {'learning_rate': 0.05, 'n_estimators': 40}\n",
      "0.9875478927203065 {'learning_rate': 0.05, 'n_estimators': 50}\n",
      "0.9861685823754789 {'learning_rate': 0.05, 'n_estimators': 60}\n",
      "0.9861685823754789 {'learning_rate': 0.05, 'n_estimators': 70}\n",
      "0.9875478927203065 {'learning_rate': 0.05, 'n_estimators': 80}\n",
      "0.9875478927203065 {'learning_rate': 0.05, 'n_estimators': 90}\n",
      "0.9861685823754789 {'learning_rate': 0.05, 'n_estimators': 100}\n",
      "0.9889272030651342 {'learning_rate': 0.05, 'n_estimators': 110}\n",
      "0.9861685823754789 {'learning_rate': 0.05, 'n_estimators': 120}\n",
      "0.9875478927203065 {'learning_rate': 0.05, 'n_estimators': 130}\n",
      "0.9875478927203065 {'learning_rate': 0.05, 'n_estimators': 140}\n",
      "0.9875478927203065 {'learning_rate': 0.05, 'n_estimators': 150}\n",
      "0.9875478927203065 {'learning_rate': 0.05, 'n_estimators': 160}\n",
      "0.9875478927203065 {'learning_rate': 0.05, 'n_estimators': 170}\n",
      "0.9875478927203065 {'learning_rate': 0.05, 'n_estimators': 180}\n",
      "0.9875478927203065 {'learning_rate': 0.05, 'n_estimators': 190}\n",
      "0.9903352490421456 {'learning_rate': 0.1, 'n_estimators': 10}\n",
      "0.9903352490421456 {'learning_rate': 0.1, 'n_estimators': 20}\n",
      "0.9889559386973179 {'learning_rate': 0.1, 'n_estimators': 30}\n",
      "0.9917145593869732 {'learning_rate': 0.1, 'n_estimators': 40}\n",
      "0.9889559386973179 {'learning_rate': 0.1, 'n_estimators': 50}\n",
      "0.9903352490421456 {'learning_rate': 0.1, 'n_estimators': 60}\n",
      "0.9903352490421456 {'learning_rate': 0.1, 'n_estimators': 70}\n",
      "0.9889559386973179 {'learning_rate': 0.1, 'n_estimators': 80}\n",
      "0.9903352490421456 {'learning_rate': 0.1, 'n_estimators': 90}\n",
      "0.9903352490421456 {'learning_rate': 0.1, 'n_estimators': 100}\n",
      "0.9903352490421456 {'learning_rate': 0.1, 'n_estimators': 110}\n",
      "0.9903352490421456 {'learning_rate': 0.1, 'n_estimators': 120}\n",
      "0.9903352490421456 {'learning_rate': 0.1, 'n_estimators': 130}\n",
      "0.9903352490421456 {'learning_rate': 0.1, 'n_estimators': 140}\n",
      "0.9917145593869732 {'learning_rate': 0.1, 'n_estimators': 150}\n",
      "0.9903352490421456 {'learning_rate': 0.1, 'n_estimators': 160}\n",
      "0.9903352490421456 {'learning_rate': 0.1, 'n_estimators': 170}\n",
      "0.9903352490421456 {'learning_rate': 0.1, 'n_estimators': 180}\n",
      "0.9889559386973179 {'learning_rate': 0.1, 'n_estimators': 190}\n",
      "0.9917145593869732 {'learning_rate': 0.5, 'n_estimators': 10}\n",
      "0.9944731800766282 {'learning_rate': 0.5, 'n_estimators': 20}\n",
      "0.9930938697318007 {'learning_rate': 0.5, 'n_estimators': 30}\n",
      "0.9930938697318007 {'learning_rate': 0.5, 'n_estimators': 40}\n",
      "0.9930938697318007 {'learning_rate': 0.5, 'n_estimators': 50}\n",
      "0.9903256704980843 {'learning_rate': 0.5, 'n_estimators': 60}\n",
      "0.9903256704980843 {'learning_rate': 0.5, 'n_estimators': 70}\n",
      "0.9917049808429118 {'learning_rate': 0.5, 'n_estimators': 80}\n",
      "0.9917145593869732 {'learning_rate': 0.5, 'n_estimators': 90}\n",
      "0.9903352490421456 {'learning_rate': 0.5, 'n_estimators': 100}\n",
      "0.9917049808429118 {'learning_rate': 0.5, 'n_estimators': 110}\n",
      "0.9903256704980843 {'learning_rate': 0.5, 'n_estimators': 120}\n",
      "0.9944731800766282 {'learning_rate': 0.5, 'n_estimators': 130}\n",
      "0.9930938697318007 {'learning_rate': 0.5, 'n_estimators': 140}\n",
      "0.9930938697318007 {'learning_rate': 0.5, 'n_estimators': 150}\n",
      "0.9917049808429118 {'learning_rate': 0.5, 'n_estimators': 160}\n",
      "0.9917049808429118 {'learning_rate': 0.5, 'n_estimators': 170}\n",
      "0.9917145593869732 {'learning_rate': 0.5, 'n_estimators': 180}\n",
      "0.9917145593869732 {'learning_rate': 0.5, 'n_estimators': 190}\n",
      "0.9903352490421456 {'learning_rate': 1, 'n_estimators': 10}\n",
      "0.9917145593869732 {'learning_rate': 1, 'n_estimators': 20}\n",
      "0.9917145593869732 {'learning_rate': 1, 'n_estimators': 30}\n",
      "0.9889463601532567 {'learning_rate': 1, 'n_estimators': 40}\n",
      "0.9903352490421456 {'learning_rate': 1, 'n_estimators': 50}\n",
      "0.9903352490421456 {'learning_rate': 1, 'n_estimators': 60}\n",
      "0.9903352490421456 {'learning_rate': 1, 'n_estimators': 70}\n",
      "0.9917145593869732 {'learning_rate': 1, 'n_estimators': 80}\n",
      "0.9903256704980843 {'learning_rate': 1, 'n_estimators': 90}\n",
      "0.9889463601532567 {'learning_rate': 1, 'n_estimators': 100}\n",
      "0.9903256704980843 {'learning_rate': 1, 'n_estimators': 110}\n",
      "0.9930938697318007 {'learning_rate': 1, 'n_estimators': 120}\n",
      "0.9903256704980843 {'learning_rate': 1, 'n_estimators': 130}\n",
      "0.9903352490421456 {'learning_rate': 1, 'n_estimators': 140}\n",
      "0.9903352490421456 {'learning_rate': 1, 'n_estimators': 150}\n",
      "0.9903256704980843 {'learning_rate': 1, 'n_estimators': 160}\n",
      "0.9903352490421456 {'learning_rate': 1, 'n_estimators': 170}\n",
      "0.9917145593869732 {'learning_rate': 1, 'n_estimators': 180}\n",
      "0.9889559386973179 {'learning_rate': 1, 'n_estimators': 190}\n",
      "confusion matrix,  classes order is 0 and 1, actual values on rows, predicted values on columns \n",
      " [[155   0]\n",
      " [  1  86]]\n",
      "\n",
      " accuracy 0.9958677685950413\n",
      "\n",
      " precision 1.0\n",
      "\n",
      " recall (sensitivity) 0.9885057471264368\n",
      "\n",
      " f1 0.9942196531791908\n"
     ]
    },
    {
     "data": {
      "text/plain": [
       "<matplotlib.axes._subplots.AxesSubplot at 0x7fcbba2e69b0>"
      ]
     },
     "execution_count": 31,
     "metadata": {},
     "output_type": "execute_result"
    },
    {
     "data": {
      "image/png": "[encoded data removed]",
      "text/plain": [
       "<Figure size 432x288 with 2 Axes>"
      ]
     },
     "metadata": {
      "needs_background": "light"
     },
     "output_type": "display_data"
    }
   ],
   "source": [
    "#Adaboost\n",
    "ab=AdaBoostClassifier(DecisionTreeClassifier(max_depth=3))\n",
    "scores=cross_val_score(rf, train_X, train_Y, scoring='accuracy', cv=5)\n",
    "print('acuracy on the 5 folds', scores)\n",
    "print('and their mean', np.mean(scores))\n",
    "\n",
    "ab.n_estimators=200\n",
    "ab.learning_rate=0.5\n",
    "scores=cross_val_score(rf, train_X, train_Y, scoring='accuracy', cv=5)\n",
    "print('for n_estimators=200 and learning rate 0.5, acuracy on the 5 folds', scores)\n",
    "print('and their mean', np.mean(scores))\n",
    "\n",
    "\n",
    "print('\\033[1m' + '\\n Results after grid search \\n' + '\\033[0m')\n",
    "\n",
    "param_grid = {\n",
    "     'n_estimators': np.arange(10,200,10),\n",
    "     'learning_rate': [0.01, 0.05, 0.1, 0.5, 1]\n",
    " }\n",
    "grid_search = GridSearchCV(ab, param_grid, scoring='accuracy', cv=5, n_jobs=-1)\n",
    "grid_search.fit(train_X,train_Y)\n",
    "grid_search.best_params_\n",
    "print('best parameter values', grid_search.best_params_)\n",
    "print('best estimator', grid_search.best_estimator_)\n",
    "\n",
    "# display performances per each repetition of cross validation\n",
    "cvres = grid_search.cv_results_\n",
    "for mean_score, params in zip(cvres[\"mean_test_score\"], cvres[\"params\"]):\n",
    "    print(np.mean(mean_score), params)\n",
    "\n",
    "best_ab=grid_search.best_estimator_\n",
    "pred_Y=best_rf.predict(test_X)\n",
    "\n",
    "cm=confusion_matrix(test_Y, pred_Y) # confusion matrix\n",
    "print('confusion matrix,  classes order is 0 and 1, actual values on rows, predicted values on columns \\n', cm)\n",
    "print('\\n accuracy', accuracy_score(test_Y, pred_Y))\n",
    "print('\\n precision', precision_score(test_Y, pred_Y))\n",
    "print('\\n recall (sensitivity)', recall_score(test_Y, pred_Y))\n",
    "print('\\n f1', f1_score(test_Y, pred_Y))\n",
    "\n",
    "sns.heatmap(cm,xticklabels =xticklabels,yticklabels =xticklabels,annot=True,fmt='d')"
   ]
  },
  {
   "cell_type": "markdown",
   "metadata": {
    "id": "rNfHUU3PTY6s"
   },
   "source": [
    "2C). MCI vs Dementia"
   ]
  },
  {
   "cell_type": "code",
   "execution_count": 32,
   "metadata": {
    "colab": {
     "base_uri": "https://localhost:8080/",
     "height": 317
    },
    "id": "ZxXmcgV2TrxP",
    "outputId": "62ac8fad-4a5e-4bb2-f114-6b66d5cd440f"
   },
   "outputs": [
    {
     "data": {
      "text/html": [
       "<div>\n",
       "<style scoped>\n",
       "    .dataframe tbody tr th:only-of-type {\n",
       "        vertical-align: middle;\n",
       "    }\n",
       "\n",
       "    .dataframe tbody tr th {\n",
       "        vertical-align: top;\n",
       "    }\n",
       "\n",
       "    .dataframe thead th {\n",
       "        text-align: right;\n",
       "    }\n",
       "</style>\n",
       "<table border=\"1\" class=\"dataframe\">\n",
       "  <thead>\n",
       "    <tr style=\"text-align: right;\">\n",
       "      <th></th>\n",
       "      <th>DIAGNOSIS</th>\n",
       "      <th>AGE</th>\n",
       "      <th>PTGENDER</th>\n",
       "      <th>PTEDUCAT</th>\n",
       "      <th>PTMARRY</th>\n",
       "      <th>ADAS11.bl</th>\n",
       "      <th>ADAS13.bl</th>\n",
       "      <th>ADASQ4.bl</th>\n",
       "      <th>MMSE.bl</th>\n",
       "      <th>RAVLT.immediate.bl</th>\n",
       "      <th>...</th>\n",
       "      <th>EcogSPLang.bl</th>\n",
       "      <th>EcogSPVisspat.bl</th>\n",
       "      <th>EcogSPPlan.bl</th>\n",
       "      <th>EcogSPOrgan.bl</th>\n",
       "      <th>EcogSPDivatt.bl</th>\n",
       "      <th>EcogSPTotal.bl</th>\n",
       "      <th>ABETA.bl</th>\n",
       "      <th>TAU.bl</th>\n",
       "      <th>PTAU.bl</th>\n",
       "      <th>FDG.bl</th>\n",
       "    </tr>\n",
       "  </thead>\n",
       "  <tbody>\n",
       "    <tr>\n",
       "      <th>count</th>\n",
       "      <td>1234.00000</td>\n",
       "      <td>1234.000000</td>\n",
       "      <td>1234.000000</td>\n",
       "      <td>1234.000000</td>\n",
       "      <td>1234.000000</td>\n",
       "      <td>1231.000000</td>\n",
       "      <td>1222.000000</td>\n",
       "      <td>1234.000000</td>\n",
       "      <td>1234.000000</td>\n",
       "      <td>1230.000000</td>\n",
       "      <td>...</td>\n",
       "      <td>642.000000</td>\n",
       "      <td>632.000000</td>\n",
       "      <td>635.000000</td>\n",
       "      <td>611.000000</td>\n",
       "      <td>626.00000</td>\n",
       "      <td>640.000000</td>\n",
       "      <td>846.000000</td>\n",
       "      <td>846.000000</td>\n",
       "      <td>846.000000</td>\n",
       "      <td>907.000000</td>\n",
       "    </tr>\n",
       "    <tr>\n",
       "      <th>mean</th>\n",
       "      <td>1.71799</td>\n",
       "      <td>73.575527</td>\n",
       "      <td>1.579417</td>\n",
       "      <td>15.699352</td>\n",
       "      <td>1.356564</td>\n",
       "      <td>12.951795</td>\n",
       "      <td>20.328682</td>\n",
       "      <td>6.379254</td>\n",
       "      <td>26.363857</td>\n",
       "      <td>31.060163</td>\n",
       "      <td>...</td>\n",
       "      <td>1.840720</td>\n",
       "      <td>1.649424</td>\n",
       "      <td>1.800630</td>\n",
       "      <td>1.919858</td>\n",
       "      <td>2.13525</td>\n",
       "      <td>1.967076</td>\n",
       "      <td>880.634634</td>\n",
       "      <td>308.615816</td>\n",
       "      <td>30.196017</td>\n",
       "      <td>1.199865</td>\n",
       "    </tr>\n",
       "    <tr>\n",
       "      <th>std</th>\n",
       "      <td>0.45016</td>\n",
       "      <td>7.737666</td>\n",
       "      <td>0.493853</td>\n",
       "      <td>2.887939</td>\n",
       "      <td>0.774236</td>\n",
       "      <td>6.728571</td>\n",
       "      <td>9.312680</td>\n",
       "      <td>2.660655</td>\n",
       "      <td>2.746025</td>\n",
       "      <td>11.118328</td>\n",
       "      <td>...</td>\n",
       "      <td>0.780533</td>\n",
       "      <td>0.777634</td>\n",
       "      <td>0.851316</td>\n",
       "      <td>0.922755</td>\n",
       "      <td>0.94551</td>\n",
       "      <td>0.746196</td>\n",
       "      <td>426.794158</td>\n",
       "      <td>142.239939</td>\n",
       "      <td>15.732930</td>\n",
       "      <td>0.156644</td>\n",
       "    </tr>\n",
       "    <tr>\n",
       "      <th>min</th>\n",
       "      <td>1.00000</td>\n",
       "      <td>54.400000</td>\n",
       "      <td>1.000000</td>\n",
       "      <td>4.000000</td>\n",
       "      <td>1.000000</td>\n",
       "      <td>1.000000</td>\n",
       "      <td>3.000000</td>\n",
       "      <td>0.000000</td>\n",
       "      <td>18.000000</td>\n",
       "      <td>0.000000</td>\n",
       "      <td>...</td>\n",
       "      <td>1.000000</td>\n",
       "      <td>1.000000</td>\n",
       "      <td>1.000000</td>\n",
       "      <td>1.000000</td>\n",
       "      <td>1.00000</td>\n",
       "      <td>1.000000</td>\n",
       "      <td>210.900000</td>\n",
       "      <td>79.000000</td>\n",
       "      <td>7.000000</td>\n",
       "      <td>0.697264</td>\n",
       "    </tr>\n",
       "    <tr>\n",
       "      <th>25%</th>\n",
       "      <td>1.00000</td>\n",
       "      <td>68.400000</td>\n",
       "      <td>1.000000</td>\n",
       "      <td>14.000000</td>\n",
       "      <td>1.000000</td>\n",
       "      <td>8.000000</td>\n",
       "      <td>13.670000</td>\n",
       "      <td>4.000000</td>\n",
       "      <td>25.000000</td>\n",
       "      <td>23.000000</td>\n",
       "      <td>...</td>\n",
       "      <td>1.222222</td>\n",
       "      <td>1.000000</td>\n",
       "      <td>1.000000</td>\n",
       "      <td>1.166667</td>\n",
       "      <td>1.25000</td>\n",
       "      <td>1.333333</td>\n",
       "      <td>557.825000</td>\n",
       "      <td>210.400000</td>\n",
       "      <td>18.850000</td>\n",
       "      <td>1.106445</td>\n",
       "    </tr>\n",
       "    <tr>\n",
       "      <th>50%</th>\n",
       "      <td>2.00000</td>\n",
       "      <td>74.000000</td>\n",
       "      <td>2.000000</td>\n",
       "      <td>16.000000</td>\n",
       "      <td>1.000000</td>\n",
       "      <td>11.670000</td>\n",
       "      <td>19.000000</td>\n",
       "      <td>7.000000</td>\n",
       "      <td>27.000000</td>\n",
       "      <td>29.000000</td>\n",
       "      <td>...</td>\n",
       "      <td>1.555556</td>\n",
       "      <td>1.285714</td>\n",
       "      <td>1.500000</td>\n",
       "      <td>1.666667</td>\n",
       "      <td>2.00000</td>\n",
       "      <td>1.773504</td>\n",
       "      <td>741.400000</td>\n",
       "      <td>281.600000</td>\n",
       "      <td>26.950000</td>\n",
       "      <td>1.205104</td>\n",
       "    </tr>\n",
       "    <tr>\n",
       "      <th>75%</th>\n",
       "      <td>2.00000</td>\n",
       "      <td>79.300000</td>\n",
       "      <td>2.000000</td>\n",
       "      <td>18.000000</td>\n",
       "      <td>1.000000</td>\n",
       "      <td>16.670000</td>\n",
       "      <td>26.000000</td>\n",
       "      <td>9.000000</td>\n",
       "      <td>29.000000</td>\n",
       "      <td>38.000000</td>\n",
       "      <td>...</td>\n",
       "      <td>2.333333</td>\n",
       "      <td>2.000000</td>\n",
       "      <td>2.400000</td>\n",
       "      <td>2.666667</td>\n",
       "      <td>2.75000</td>\n",
       "      <td>2.500000</td>\n",
       "      <td>1128.500000</td>\n",
       "      <td>379.250000</td>\n",
       "      <td>37.692500</td>\n",
       "      <td>1.303502</td>\n",
       "    </tr>\n",
       "    <tr>\n",
       "      <th>max</th>\n",
       "      <td>2.00000</td>\n",
       "      <td>91.400000</td>\n",
       "      <td>2.000000</td>\n",
       "      <td>20.000000</td>\n",
       "      <td>5.000000</td>\n",
       "      <td>42.670000</td>\n",
       "      <td>54.670000</td>\n",
       "      <td>10.000000</td>\n",
       "      <td>30.000000</td>\n",
       "      <td>68.000000</td>\n",
       "      <td>...</td>\n",
       "      <td>4.000000</td>\n",
       "      <td>4.000000</td>\n",
       "      <td>4.000000</td>\n",
       "      <td>4.000000</td>\n",
       "      <td>4.00000</td>\n",
       "      <td>3.948718</td>\n",
       "      <td>1701.000000</td>\n",
       "      <td>1301.000000</td>\n",
       "      <td>121.000000</td>\n",
       "      <td>1.707168</td>\n",
       "    </tr>\n",
       "  </tbody>\n",
       "</table>\n",
       "<p>8 rows × 45 columns</p>\n",
       "</div>"
      ],
      "text/plain": [
       "        DIAGNOSIS          AGE     PTGENDER     PTEDUCAT      PTMARRY  \\\n",
       "count  1234.00000  1234.000000  1234.000000  1234.000000  1234.000000   \n",
       "mean      1.71799    73.575527     1.579417    15.699352     1.356564   \n",
       "std       0.45016     7.737666     0.493853     2.887939     0.774236   \n",
       "min       1.00000    54.400000     1.000000     4.000000     1.000000   \n",
       "25%       1.00000    68.400000     1.000000    14.000000     1.000000   \n",
       "50%       2.00000    74.000000     2.000000    16.000000     1.000000   \n",
       "75%       2.00000    79.300000     2.000000    18.000000     1.000000   \n",
       "max       2.00000    91.400000     2.000000    20.000000     5.000000   \n",
       "\n",
       "         ADAS11.bl    ADAS13.bl    ADASQ4.bl      MMSE.bl  RAVLT.immediate.bl  \\\n",
       "count  1231.000000  1222.000000  1234.000000  1234.000000         1230.000000   \n",
       "mean     12.951795    20.328682     6.379254    26.363857           31.060163   \n",
       "std       6.728571     9.312680     2.660655     2.746025           11.118328   \n",
       "min       1.000000     3.000000     0.000000    18.000000            0.000000   \n",
       "25%       8.000000    13.670000     4.000000    25.000000           23.000000   \n",
       "50%      11.670000    19.000000     7.000000    27.000000           29.000000   \n",
       "75%      16.670000    26.000000     9.000000    29.000000           38.000000   \n",
       "max      42.670000    54.670000    10.000000    30.000000           68.000000   \n",
       "\n",
       "          ...      EcogSPLang.bl  EcogSPVisspat.bl  EcogSPPlan.bl  \\\n",
       "count     ...         642.000000        632.000000     635.000000   \n",
       "mean      ...           1.840720          1.649424       1.800630   \n",
       "std       ...           0.780533          0.777634       0.851316   \n",
       "min       ...           1.000000          1.000000       1.000000   \n",
       "25%       ...           1.222222          1.000000       1.000000   \n",
       "50%       ...           1.555556          1.285714       1.500000   \n",
       "75%       ...           2.333333          2.000000       2.400000   \n",
       "max       ...           4.000000          4.000000       4.000000   \n",
       "\n",
       "       EcogSPOrgan.bl  EcogSPDivatt.bl  EcogSPTotal.bl     ABETA.bl  \\\n",
       "count      611.000000        626.00000      640.000000   846.000000   \n",
       "mean         1.919858          2.13525        1.967076   880.634634   \n",
       "std          0.922755          0.94551        0.746196   426.794158   \n",
       "min          1.000000          1.00000        1.000000   210.900000   \n",
       "25%          1.166667          1.25000        1.333333   557.825000   \n",
       "50%          1.666667          2.00000        1.773504   741.400000   \n",
       "75%          2.666667          2.75000        2.500000  1128.500000   \n",
       "max          4.000000          4.00000        3.948718  1701.000000   \n",
       "\n",
       "            TAU.bl     PTAU.bl      FDG.bl  \n",
       "count   846.000000  846.000000  907.000000  \n",
       "mean    308.615816   30.196017    1.199865  \n",
       "std     142.239939   15.732930    0.156644  \n",
       "min      79.000000    7.000000    0.697264  \n",
       "25%     210.400000   18.850000    1.106445  \n",
       "50%     281.600000   26.950000    1.205104  \n",
       "75%     379.250000   37.692500    1.303502  \n",
       "max    1301.000000  121.000000    1.707168  \n",
       "\n",
       "[8 rows x 45 columns]"
      ]
     },
     "execution_count": 32,
     "metadata": {},
     "output_type": "execute_result"
    }
   ],
   "source": [
    "# Running the analyses for classifying (MCI) vs (Dementia)\n",
    "# Removing cases with diagnostics of CN _ 0.\n",
    "df4 = df2.loc[df2['DIAGNOSIS'] != 0].copy()\n",
    "df4.describe()\n"
   ]
  },
  {
   "cell_type": "code",
   "execution_count": 33,
   "metadata": {
    "id": "9G_nJ2I3URyx"
   },
   "outputs": [],
   "source": [
    "#Data stratification.\n",
    "train,test = train_test_split(df4, test_size=0.25, random_state=0, stratify=df4['DIAGNOSIS']) \n",
    "\n",
    "# separate the 'Outcome' column from training/testing data\n",
    "train_X = train[train.columns[1:47]]\n",
    "test_X  = test[test.columns[1:47]]\n",
    "\n",
    "train_Y = train['DIAGNOSIS']\n",
    "test_Y  = test['DIAGNOSIS']\n",
    "\n",
    "# Data imputation \n",
    "#  replaced null values of train and test dataset with corresponding means in the train dataset.\n",
    "\n",
    "meanofparameters = train_X.mean(skipna = True)\n",
    "train_X          = train_X.fillna(meanofparameters)\n",
    "test_X           = test_X.fillna(meanofparameters)\n",
    "xticklabels      = ['Dementia','MCI'] "
   ]
  },
  {
   "cell_type": "code",
   "execution_count": 34,
   "metadata": {
    "colab": {
     "base_uri": "https://localhost:8080/",
     "height": 843
    },
    "id": "bdDzWi6TUsLJ",
    "outputId": "ab7814af-d1f6-409d-95e2-4e9d25991361"
   },
   "outputs": [
    {
     "name": "stdout",
     "output_type": "stream",
     "text": [
      "acuracy on the 5 folds [0.85405405 0.83783784 0.87567568 0.89189189 0.91351351]\n",
      "and their mean 0.8745945945945947\n",
      "{4} acuracy on the 5 folds of CV [0.87567568 0.85405405 0.90810811 0.93513514 0.91351351]\n",
      "and their mean 0.8972972972972973\n",
      "\u001b[1m\n",
      " Results after grid search \n",
      "\u001b[0m\n",
      "best parameter values {'max_depth': 4}\n",
      "best estimator DecisionTreeClassifier(max_depth=4)\n",
      "confusion matrix,  classes order is 0 and 1, actual values on raws, predicted values on columns \n",
      " [[ 71  16]\n",
      " [ 15 207]]\n",
      "\n",
      " accuracy 0.8996763754045307\n",
      "\n",
      " precision 0.8255813953488372\n",
      "\n",
      " recall (sensitivity) 0.8160919540229885\n",
      "\n",
      " f1 0.8208092485549133\n",
      "\n",
      " accuracy from confusion matrix 0.8996763754045307\n",
      "\n",
      " precision from confusion matrix 0.9282511210762332\n",
      "\n",
      " recall (sensitivity) from confusion matrix 0.9324324324324325\n",
      "\n",
      " specificity from confusion matrix 0.8160919540229885\n"
     ]
    },
    {
     "data": {
      "text/plain": [
       "<matplotlib.axes._subplots.AxesSubplot at 0x7fcbba2eccf8>"
      ]
     },
     "execution_count": 34,
     "metadata": {},
     "output_type": "execute_result"
    },
    {
     "data": {
      "image/png": "[encoded data removed]",
      "text/plain": [
       "<Figure size 432x288 with 2 Axes>"
      ]
     },
     "metadata": {
      "needs_background": "light"
     },
     "output_type": "display_data"
    }
   ],
   "source": [
    "#Decision Tree Classifier\n",
    "dt = tree.DecisionTreeClassifier()\n",
    "scores=cross_val_score(dt, train_X, train_Y, scoring='accuracy', cv=5)\n",
    "print('acuracy on the 5 folds', scores)\n",
    "print('and their mean', np.mean(scores))\n",
    "\n",
    "dt.max_depth = 4\n",
    "scores = cross_val_score(dt, train_X, train_Y, scoring='accuracy', cv=5)\n",
    "print('{4} acuracy on the 5 folds of CV', scores)\n",
    "print('and their mean', np.mean(scores))\n",
    "\n",
    "print('\\033[1m' + '\\n Results after grid search \\n' + '\\033[0m')\n",
    "\n",
    "#Grid search\n",
    "param_grid = [\n",
    "     {'max_depth': [2, 3, 4, 5, 6, 7, 8]} ]\n",
    "\n",
    "grid_search = GridSearchCV(dt, param_grid, cv=5,\n",
    "                           scoring='accuracy',\n",
    "                           return_train_score=True)\n",
    "\n",
    "grid_search.fit(train_X, train_Y)\n",
    "print('best parameter values', grid_search.best_params_)\n",
    "print('best estimator', grid_search.best_estimator_)\n",
    "best_dt=grid_search.best_estimator_\n",
    "pred_Y=best_dt.predict(test_X)\n",
    "\n",
    "cm=confusion_matrix(test_Y, pred_Y) # confusion matrix\n",
    "print('confusion matrix,  classes order is 0 and 1, actual values on raws, predicted values on columns \\n', cm)\n",
    "print('\\n accuracy', accuracy_score(test_Y, pred_Y))\n",
    "print('\\n precision', precision_score(test_Y, pred_Y))\n",
    "print('\\n recall (sensitivity)', recall_score(test_Y, pred_Y))\n",
    "print('\\n f1', f1_score(test_Y, pred_Y))\n",
    "\n",
    "# alternatively, they can also be computed from the confusion matrix, accoding to the lecture slides:\n",
    "\n",
    "print( '\\n accuracy from confusion matrix', (cm[0,0]+cm[1,1]) / (cm[0,0]+cm[0,1]+cm[1,0]+ cm[1,1]) )\n",
    "print( '\\n precision from confusion matrix', (cm[1,1]) / (cm[0,1]+cm[1,1]) )\n",
    "print( '\\n recall (sensitivity) from confusion matrix', (cm[1,1]) / (cm[1,0]+cm[1,1]) )\n",
    "print( '\\n specificity from confusion matrix', (cm[0,0]) / (cm[0,1]+cm[0,0]) )\n",
    "sns.heatmap(cm,xticklabels =xticklabels,yticklabels =xticklabels,annot=True,fmt='d')"
   ]
  },
  {
   "cell_type": "code",
   "execution_count": 35,
   "metadata": {},
   "outputs": [
    {
     "name": "stdout",
     "output_type": "stream",
     "text": [
      "acuracy on the 5 folds [0.87567568 0.83243243 0.9027027  0.92432432 0.9027027 ]\n",
      "and their mean 0.8875675675675675\n",
      "for n_estimators 100;acuracy on the 5 folds [0.87567568 0.84864865 0.92432432 0.92432432 0.91351351]\n",
      "and their mean 0.8972972972972972\n",
      "confusion matrix,  classes order is 0 and 1, actual values on rows, predicted values on columns \n",
      " [[ 73  14]\n",
      " [  9 213]]\n",
      "\n",
      " accuracy 0.9255663430420712\n",
      "\n",
      " precision 0.8902439024390244\n",
      "\n",
      " recall (sensitivity) 0.8390804597701149\n",
      "\n",
      " f1 0.8639053254437871\n"
     ]
    },
    {
     "data": {
      "text/plain": [
       "<matplotlib.axes._subplots.AxesSubplot at 0x7fcbba2ec4e0>"
      ]
     },
     "execution_count": 35,
     "metadata": {},
     "output_type": "execute_result"
    },
    {
     "data": {
      "image/png": "[encoded data removed]",
      "text/plain": [
       "<Figure size 432x288 with 2 Axes>"
      ]
     },
     "metadata": {
      "needs_background": "light"
     },
     "output_type": "display_data"
    }
   ],
   "source": [
    "#Bagging.\n",
    "bg=BaggingClassifier(DecisionTreeClassifier())\n",
    "scores=cross_val_score(bg, train_X, train_Y, scoring='accuracy', cv=5)\n",
    "print('acuracy on the 5 folds', scores)\n",
    "print('and their mean', np.mean(scores))\n",
    "\n",
    "bg.n_estimators=100 # by default 10 estimators (trees) are used\n",
    "scores=cross_val_score(bg, train_X, train_Y, scoring='accuracy', cv=5)\n",
    "print('for n_estimators 100;acuracy on the 5 folds', scores)\n",
    "print('and their mean', np.mean(scores))\n",
    "\n",
    "bg.fit(train_X, train_Y)\n",
    "pred_Y=bg.predict(test_X)\n",
    "\n",
    "cm=confusion_matrix(test_Y, pred_Y) # confusion matrix\n",
    "print('confusion matrix,  classes order is 0 and 1, actual values on rows, predicted values on columns \\n', cm)\n",
    "print('\\n accuracy', accuracy_score(test_Y, pred_Y))\n",
    "print('\\n precision', precision_score(test_Y, pred_Y))\n",
    "print('\\n recall (sensitivity)', recall_score(test_Y, pred_Y))\n",
    "print('\\n f1', f1_score(test_Y, pred_Y))\n",
    "sns.heatmap(cm,xticklabels =xticklabels,yticklabels =xticklabels,annot=True,fmt='d')"
   ]
  },
  {
   "cell_type": "code",
   "execution_count": 36,
   "metadata": {
    "colab": {
     "base_uri": "https://localhost:8080/",
     "height": 945
    },
    "id": "P88ulo5LU95_",
    "outputId": "7c974f62-36d4-4e0f-ea27-ebe77801aa2d"
   },
   "outputs": [
    {
     "name": "stdout",
     "output_type": "stream",
     "text": [
      "acuracy on the 5 folds [0.91351351 0.85405405 0.91351351 0.91891892 0.93513514]\n",
      "and their mean 0.9070270270270271\n",
      "for max_features 7 and n_estimators 1000;acuracy on the 5 folds [0.90810811 0.84864865 0.91351351 0.92972973 0.92972973]\n",
      "and their mean 0.9059459459459461\n",
      "\u001b[1m\n",
      " Results after grid search \n",
      "\u001b[0m\n",
      "best parameter values {'n_estimators': 600}\n",
      "best estimator RandomForestClassifier(max_features=7, n_estimators=600)\n",
      "0.9048648648648647 {'max_features': 'auto'}\n",
      "0.9059459459459459 {'max_features': 'sqrt'}\n",
      "0.9070270270270271 {'n_estimators': 600}\n",
      "0.9070270270270271 {'n_estimators': 755}\n",
      "0.904864864864865 {'n_estimators': 911}\n",
      "0.9037837837837838 {'n_estimators': 1066}\n",
      "0.9037837837837838 {'n_estimators': 1222}\n",
      "0.9048648648648647 {'n_estimators': 1377}\n",
      "0.9037837837837838 {'n_estimators': 1533}\n",
      "0.9027027027027026 {'n_estimators': 1688}\n",
      "0.9027027027027026 {'n_estimators': 1844}\n",
      "0.9070270270270271 {'n_estimators': 2000}\n",
      "confusion matrix,  classes order is 0 and 1, actual values on rows, predicted values on columns \n",
      " [[ 75  12]\n",
      " [  9 213]]\n",
      "\n",
      " accuracy 0.9320388349514563\n",
      "\n",
      " precision 0.8928571428571429\n",
      "\n",
      " recall (sensitivity) 0.8620689655172413\n",
      "\n",
      " f1 0.8771929824561403\n"
     ]
    },
    {
     "data": {
      "text/plain": [
       "<matplotlib.axes._subplots.AxesSubplot at 0x7fcbba9a7a90>"
      ]
     },
     "execution_count": 36,
     "metadata": {},
     "output_type": "execute_result"
    },
    {
     "data": {
      "image/png": "[encoded data removed]",
      "text/plain": [
       "<Figure size 432x288 with 2 Axes>"
      ]
     },
     "metadata": {
      "needs_background": "light"
     },
     "output_type": "display_data"
    }
   ],
   "source": [
    "#RandomForests.\n",
    "rf=RandomForestClassifier()\n",
    "scores=cross_val_score(rf, train_X, train_Y, scoring='accuracy', cv=5)\n",
    "print('acuracy on the 5 folds', scores)\n",
    "print('and their mean', np.mean(scores))\n",
    "\n",
    "rf.max_features = 7\n",
    "rf.n_estimators = 1000\n",
    "scores=cross_val_score(rf, train_X, train_Y, scoring='accuracy', cv=5)\n",
    "print('for max_features 7 and n_estimators 1000;acuracy on the 5 folds', scores)\n",
    "print('and their mean', np.mean(scores))\n",
    "print('\\033[1m' + '\\n Results after grid search \\n' + '\\033[0m')\n",
    "\n",
    "#grid search.\n",
    "param_grid = [\n",
    "     {'max_features': ['auto','sqrt']},\n",
    "     {'n_estimators': n_estimators} ]\n",
    "\n",
    "grid_search = GridSearchCV(rf, param_grid, cv=5,\n",
    "                           scoring='accuracy',\n",
    "                           return_train_score=True,\n",
    "                            n_jobs=-1)   # notice n_jobs is number of jobs to run in parallel; when -1, all the processor capacity is used\n",
    "\n",
    "grid_search.fit(train_X, train_Y)\n",
    "print('best parameter values', grid_search.best_params_)\n",
    "print('best estimator', grid_search.best_estimator_)\n",
    "\n",
    "# display performances per each repetition of cross validation\n",
    "cvres = grid_search.cv_results_\n",
    "for mean_score, params in zip(cvres[\"mean_test_score\"], cvres[\"params\"]):\n",
    "    print(np.mean(mean_score), params)\n",
    "    \n",
    "best_rf=grid_search.best_estimator_\n",
    "pred_Y=best_rf.predict(test_X)\n",
    "cm=confusion_matrix(test_Y, pred_Y) # confusion matrix\n",
    "print('confusion matrix,  classes order is 0 and 1, actual values on rows, predicted values on columns \\n', cm)\n",
    "print('\\n accuracy', accuracy_score(test_Y, pred_Y))\n",
    "print('\\n precision', precision_score(test_Y, pred_Y))\n",
    "print('\\n recall (sensitivity)', recall_score(test_Y, pred_Y))\n",
    "print('\\n f1', f1_score(test_Y, pred_Y))\n",
    "sns.heatmap(cm,xticklabels =xticklabels,yticklabels =xticklabels,annot=True,fmt='d')"
   ]
  },
  {
   "cell_type": "code",
   "execution_count": 37,
   "metadata": {
    "colab": {
     "base_uri": "https://localhost:8080/",
     "height": 1000
    },
    "id": "Mr8011IaWBm1",
    "outputId": "786ab2a3-b0fa-4802-c73c-e2ae4b35e08b",
    "tags": []
   },
   "outputs": [
    {
     "name": "stdout",
     "output_type": "stream",
     "text": [
      "acuracy on the 5 folds [0.8972973  0.85405405 0.91351351 0.92432432 0.92972973]\n",
      "and their mean 0.9037837837837838\n",
      "for n_estimators=200 and learning rate 0.5, acuracy on the 5 folds [0.9027027  0.85405405 0.91351351 0.92432432 0.92432432]\n",
      "and their mean 0.9037837837837838\n",
      "\u001b[1m\n",
      " Results after grid search \n",
      "\u001b[0m\n",
      "best parameter values {'learning_rate': 0.1, 'n_estimators': 5}\n",
      "best estimator AdaBoostClassifier(base_estimator=DecisionTreeClassifier(max_depth=3),\n",
      "                   learning_rate=0.1, n_estimators=5)\n",
      "0.9005405405405404 {'learning_rate': 0.01, 'n_estimators': 5}\n",
      "0.8994594594594595 {'learning_rate': 0.01, 'n_estimators': 10}\n",
      "0.9059459459459459 {'learning_rate': 0.01, 'n_estimators': 50}\n",
      "0.9059459459459459 {'learning_rate': 0.01, 'n_estimators': 100}\n",
      "0.8854054054054054 {'learning_rate': 0.01, 'n_estimators': 500}\n",
      "0.9037837837837838 {'learning_rate': 0.05, 'n_estimators': 5}\n",
      "0.9059459459459459 {'learning_rate': 0.05, 'n_estimators': 10}\n",
      "0.892972972972973 {'learning_rate': 0.05, 'n_estimators': 50}\n",
      "0.8897297297297297 {'learning_rate': 0.05, 'n_estimators': 100}\n",
      "0.8897297297297297 {'learning_rate': 0.05, 'n_estimators': 500}\n",
      "0.9070270270270271 {'learning_rate': 0.1, 'n_estimators': 5}\n",
      "0.904864864864865 {'learning_rate': 0.1, 'n_estimators': 10}\n",
      "0.8918918918918919 {'learning_rate': 0.1, 'n_estimators': 50}\n",
      "0.8864864864864865 {'learning_rate': 0.1, 'n_estimators': 100}\n",
      "0.8983783783783785 {'learning_rate': 0.1, 'n_estimators': 500}\n",
      "0.8854054054054055 {'learning_rate': 0.5, 'n_estimators': 5}\n",
      "0.8832432432432433 {'learning_rate': 0.5, 'n_estimators': 10}\n",
      "0.894054054054054 {'learning_rate': 0.5, 'n_estimators': 50}\n",
      "0.8918918918918919 {'learning_rate': 0.5, 'n_estimators': 100}\n",
      "0.8843243243243244 {'learning_rate': 0.5, 'n_estimators': 500}\n",
      "0.8800000000000001 {'learning_rate': 1, 'n_estimators': 5}\n",
      "0.8724324324324325 {'learning_rate': 1, 'n_estimators': 10}\n",
      "0.8843243243243244 {'learning_rate': 1, 'n_estimators': 50}\n",
      "0.8875675675675676 {'learning_rate': 1, 'n_estimators': 100}\n",
      "0.8994594594594595 {'learning_rate': 1, 'n_estimators': 500}\n",
      "confusion matrix,  classes order is 0 and 1, actual values on rows, predicted values on columns \n",
      " [[ 75  12]\n",
      " [  9 213]]\n",
      "\n",
      " accuracy 0.9320388349514563\n",
      "\n",
      " precision 0.8928571428571429\n",
      "\n",
      " recall (sensitivity) 0.8620689655172413\n",
      "\n",
      " f1 0.8771929824561403\n"
     ]
    },
    {
     "data": {
      "text/plain": [
       "<matplotlib.axes._subplots.AxesSubplot at 0x7fcbba83a898>"
      ]
     },
     "execution_count": 37,
     "metadata": {},
     "output_type": "execute_result"
    },
    {
     "data": {
      "image/png": "[encoded data removed]",
      "text/plain": [
       "<Figure size 432x288 with 2 Axes>"
      ]
     },
     "metadata": {
      "needs_background": "light"
     },
     "output_type": "display_data"
    }
   ],
   "source": [
    "#Adaboost\n",
    "ab=AdaBoostClassifier(DecisionTreeClassifier(max_depth=3))\n",
    "scores=cross_val_score(rf, train_X, train_Y, scoring='accuracy', cv=5)\n",
    "print('acuracy on the 5 folds', scores)\n",
    "print('and their mean', np.mean(scores))\n",
    "\n",
    "ab.n_estimators=200\n",
    "ab.learning_rate=0.5\n",
    "scores=cross_val_score(rf, train_X, train_Y, scoring='accuracy', cv=5)\n",
    "print('for n_estimators=200 and learning rate 0.5, acuracy on the 5 folds', scores)\n",
    "print('and their mean', np.mean(scores))\n",
    "print('\\033[1m' + '\\n Results after grid search \\n' + '\\033[0m')\n",
    "\n",
    "param_grid = {\n",
    "     'n_estimators': [5, 10, 50, 100, 500],\n",
    "     'learning_rate': [0.01, 0.05, 0.1, 0.5, 1]\n",
    " }\n",
    "grid_search = GridSearchCV(ab, param_grid, scoring='accuracy', cv=5, n_jobs=-1)\n",
    "grid_search.fit(train_X,train_Y)\n",
    "grid_search.best_params_\n",
    "print('best parameter values', grid_search.best_params_)\n",
    "print('best estimator', grid_search.best_estimator_)\n",
    "\n",
    "# display performances per each repetition of cross validation\n",
    "cvres = grid_search.cv_results_\n",
    "for mean_score, params in zip(cvres[\"mean_test_score\"], cvres[\"params\"]):\n",
    "    print(np.mean(mean_score), params)\n",
    "\n",
    "best_ab=grid_search.best_estimator_\n",
    "pred_Y=best_rf.predict(test_X)\n",
    "\n",
    "cm=confusion_matrix(test_Y, pred_Y) # confusion matrix\n",
    "print('confusion matrix,  classes order is 0 and 1, actual values on rows, predicted values on columns \\n', cm)\n",
    "print('\\n accuracy', accuracy_score(test_Y, pred_Y))\n",
    "print('\\n precision', precision_score(test_Y, pred_Y))\n",
    "print('\\n recall (sensitivity)', recall_score(test_Y, pred_Y))\n",
    "print('\\n f1', f1_score(test_Y, pred_Y))\n",
    "\n",
    "sns.heatmap(cm,xticklabels =xticklabels,yticklabels =xticklabels,annot=True,fmt='d')"
   ]
  },
  {
   "cell_type": "markdown",
   "metadata": {
    "id": "RWoIHK98PTiD"
   },
   "source": [
    "# 2d. distinguish CN vs. all."
   ]
  },
  {
   "cell_type": "code",
   "execution_count": 38,
   "metadata": {
    "id": "_qTpPa5zPeWJ"
   },
   "outputs": [],
   "source": [
    "# Distinguish (CN) vs (MCI and Dementia)\n",
    "# Avoiding the entries with null values more than 50 percentage.\n",
    "df10 = df1[filtereddata['ColName']].copy()\n",
    "\n",
    "#Mapping features with categories to numerical. \n",
    "\n",
    "df10['PTGENDER'].replace({'Female': 1, 'Male': 2}, inplace= True)\n",
    "df10['PTETHCAT'].replace({'Not Hisp/Latino': 1, 'Hisp/Latino': 2, 'Unknown':3}, inplace= True)\n",
    "df10['PTMARRY'].replace({'Married': 1, 'Widowed': 2, 'Divorced':3, 'Never married':4, 'Unknown':5}, inplace= True)\n",
    "df10['PTRACCAT'].replace({'White': 1, 'More than one': 2, 'Black':3, 'Asian':4, 'Unknown':5, 'Hawaiian/Other PI':6,'Am Indian/Alaskan':7}, inplace= True)\n",
    "\n",
    "df10['DIAGNOSIS'].replace({'CN': 0, 'Dementia': 1, 'MCI':1}, inplace= True)\n",
    "\n",
    "# Removed two columns from the analysis; due to the inference from statistical analysis.\n",
    "del df10['PTETHCAT']\n",
    "del df10['PTRACCAT']\n",
    "\n",
    "\n",
    "\n",
    "xticklabels = ['CN','Others']\n",
    "\n",
    "#Data stratification.\n",
    "train,test = train_test_split(df10, test_size=0.25, random_state=0, stratify=df10['DIAGNOSIS']) \n",
    "\n",
    "# separate the 'Outcome' column from training/testing data\n",
    "train_X = train[train.columns[1:47]]\n",
    "test_X  = test[test.columns[1:47]]\n",
    "\n",
    "train_Y = train['DIAGNOSIS']\n",
    "test_Y  = test['DIAGNOSIS']\n",
    "\n",
    "# Data imputation \n",
    "#  replaced null values of train and test dataset with corresponding means in the train dataset.\n",
    "\n",
    "meanofparameters = train_X.mean(skipna = True)\n",
    "train_X          = train_X.fillna(meanofparameters)\n",
    "test_X           = test_X.fillna(meanofparameters)\n"
   ]
  },
  {
   "cell_type": "code",
   "execution_count": 39,
   "metadata": {
    "colab": {
     "base_uri": "https://localhost:8080/",
     "height": 844
    },
    "id": "ffhfPAN-QSKG",
    "outputId": "df1e6320-1582-4d0c-c335-11c5a602afd1"
   },
   "outputs": [
    {
     "name": "stdout",
     "output_type": "stream",
     "text": [
      "acuracy on the 5 folds [0.92446043 0.91366906 0.92446043 0.90613718 0.92418773]\n",
      "and their mean 0.9185829675609692\n",
      "{4} acuracy on the 5 folds of CV [0.93165468 0.92805755 0.94604317 0.94223827 0.94584838]\n",
      "and their mean 0.9387684076565461\n",
      "\u001b[1m\n",
      " Results after grid search \n",
      "\u001b[0m\n",
      "best parameter values {'max_depth': 4}\n",
      "best estimator DecisionTreeClassifier(max_depth=4)\n",
      "confusion matrix,  classes order is 0 and 1, actual values on raws, predicted values on columns \n",
      " [[132  22]\n",
      " [  4 305]]\n",
      "\n",
      " accuracy 0.9438444924406048\n",
      "\n",
      " precision 0.9438444924406048\n",
      "\n",
      " recall (sensitivity) 0.9438444924406048\n",
      "\n",
      " f1 0.9438444924406048\n",
      "\n",
      " accuracy from confusion matrix 0.9438444924406048\n",
      "\n",
      " precision from confusion matrix 0.9327217125382263\n",
      "\n",
      " recall (sensitivity) from confusion matrix 0.9870550161812298\n",
      "\n",
      " specificity from confusion matrix 0.8571428571428571\n"
     ]
    },
    {
     "data": {
      "text/plain": [
       "<matplotlib.axes._subplots.AxesSubplot at 0x7fcbba99d898>"
      ]
     },
     "execution_count": 39,
     "metadata": {},
     "output_type": "execute_result"
    },
    {
     "data": {
      "image/png": "[encoded data removed]",
      "text/plain": [
       "<Figure size 432x288 with 2 Axes>"
      ]
     },
     "metadata": {
      "needs_background": "light"
     },
     "output_type": "display_data"
    }
   ],
   "source": [
    "#Decision Tree Classifier\n",
    "dt = tree.DecisionTreeClassifier()\n",
    "scores=cross_val_score(dt, train_X, train_Y, scoring='accuracy', cv=5)\n",
    "print('acuracy on the 5 folds', scores)\n",
    "print('and their mean', np.mean(scores))\n",
    "\n",
    "dt.max_depth = 4\n",
    "scores = cross_val_score(dt, train_X, train_Y, scoring='accuracy', cv=5)\n",
    "print('{4} acuracy on the 5 folds of CV', scores)\n",
    "print('and their mean', np.mean(scores))\n",
    "\n",
    "print('\\033[1m' + '\\n Results after grid search \\n' + '\\033[0m')\n",
    "\n",
    "#Grid search\n",
    "param_grid = [\n",
    "     {'max_depth': [2, 3, 4, 5, 6, 7, 8]} ]\n",
    "\n",
    "grid_search = GridSearchCV(dt, param_grid, cv=5,\n",
    "                           scoring='accuracy',\n",
    "                           return_train_score=True)\n",
    "\n",
    "grid_search.fit(train_X, train_Y)\n",
    "print('best parameter values', grid_search.best_params_)\n",
    "print('best estimator', grid_search.best_estimator_)\n",
    "best_dt=grid_search.best_estimator_\n",
    "pred_Y=best_dt.predict(test_X)\n",
    "\n",
    "cm=confusion_matrix(test_Y, pred_Y) # confusion matrix\n",
    "print('confusion matrix,  classes order is 0 and 1, actual values on raws, predicted values on columns \\n', cm)\n",
    "print('\\n accuracy', accuracy_score(test_Y, pred_Y))\n",
    "print('\\n precision', precision_score(test_Y, pred_Y,average='micro'))\n",
    "print('\\n recall (sensitivity)', recall_score(test_Y, pred_Y,average='micro'))\n",
    "print('\\n f1', f1_score(test_Y, pred_Y,average='micro'))\n",
    "\n",
    "# alternatively, they can also be computed from the confusion matrix, accoding to the lecture slides:\n",
    "\n",
    "print( '\\n accuracy from confusion matrix', (cm[0,0]+cm[1,1]) / (cm[0,0]+cm[0,1]+cm[1,0]+ cm[1,1]) )\n",
    "print( '\\n precision from confusion matrix', (cm[1,1]) / (cm[0,1]+cm[1,1]) )\n",
    "print( '\\n recall (sensitivity) from confusion matrix', (cm[1,1]) / (cm[1,0]+cm[1,1]) )\n",
    "print( '\\n specificity from confusion matrix', (cm[0,0]) / (cm[0,1]+cm[0,0]) )\n",
    "sns.heatmap(cm,xticklabels =xticklabels,yticklabels =xticklabels,annot=True,fmt='d')"
   ]
  },
  {
   "cell_type": "code",
   "execution_count": 40,
   "metadata": {
    "colab": {
     "base_uri": "https://localhost:8080/",
     "height": 540
    },
    "id": "KxKTZSESReQN",
    "outputId": "550d3037-3f1b-4ca1-fa03-8dc6a63daf6b"
   },
   "outputs": [
    {
     "name": "stdout",
     "output_type": "stream",
     "text": [
      "acuracy on the 5 folds [0.9352518  0.9352518  0.95323741 0.93140794 0.93501805]\n",
      "and their mean 0.9380333999948055\n",
      "for n_estimators 100;acuracy on the 5 folds [0.94244604 0.94244604 0.94964029 0.92418773 0.94223827]\n",
      "and their mean 0.9401916733761005\n",
      "confusion matrix,  classes order is 0 and 1, actual values on rows, predicted values on columns \n",
      " [[135  19]\n",
      " [  9 300]]\n",
      "\n",
      " accuracy 0.9395248380129589\n",
      "\n",
      " precision 0.9404388714733543\n",
      "\n",
      " recall (sensitivity) 0.970873786407767\n",
      "\n",
      " f1 0.9554140127388535\n"
     ]
    },
    {
     "data": {
      "text/plain": [
       "<matplotlib.axes._subplots.AxesSubplot at 0x7fcbb0928748>"
      ]
     },
     "execution_count": 40,
     "metadata": {},
     "output_type": "execute_result"
    },
    {
     "data": {
      "image/png": "[encoded data removed]",
      "text/plain": [
       "<Figure size 432x288 with 2 Axes>"
      ]
     },
     "metadata": {
      "needs_background": "light"
     },
     "output_type": "display_data"
    }
   ],
   "source": [
    "#Bagging.\n",
    "bg=BaggingClassifier(DecisionTreeClassifier())\n",
    "scores=cross_val_score(bg, train_X, train_Y, scoring='accuracy', cv=5)\n",
    "print('acuracy on the 5 folds', scores)\n",
    "print('and their mean', np.mean(scores))\n",
    "\n",
    "bg.n_estimators=100 # by default 10 estimators (trees) are used\n",
    "scores=cross_val_score(bg, train_X, train_Y, scoring='accuracy', cv=5)\n",
    "print('for n_estimators 100;acuracy on the 5 folds', scores)\n",
    "print('and their mean', np.mean(scores))\n",
    "\n",
    "bg.fit(train_X, train_Y)\n",
    "pred_Y=bg.predict(test_X)\n",
    "\n",
    "cm=confusion_matrix(test_Y, pred_Y) # confusion matrix\n",
    "print('confusion matrix,  classes order is 0 and 1, actual values on rows, predicted values on columns \\n', cm)\n",
    "print('\\n accuracy', accuracy_score(test_Y, pred_Y))\n",
    "print('\\n precision', precision_score(test_Y, pred_Y))\n",
    "print('\\n recall (sensitivity)', recall_score(test_Y, pred_Y))\n",
    "print('\\n f1', f1_score(test_Y, pred_Y))\n",
    "sns.heatmap(cm,xticklabels =xticklabels,yticklabels =xticklabels,annot=True,fmt='d')"
   ]
  },
  {
   "cell_type": "code",
   "execution_count": 41,
   "metadata": {
    "colab": {
     "base_uri": "https://localhost:8080/",
     "height": 945
    },
    "id": "wFSys1LiRujA",
    "outputId": "2d1cda17-e962-424d-f89f-5c8f9a8621ed"
   },
   "outputs": [
    {
     "name": "stdout",
     "output_type": "stream",
     "text": [
      "acuracy on the 5 folds [0.92805755 0.91007194 0.9352518  0.93501805 0.9566787 ]\n",
      "and their mean 0.9330156091733113\n",
      "for max_features 7 and n_estimators 1000;acuracy on the 5 folds [0.94244604 0.91007194 0.9352518  0.93140794 0.94584838]\n",
      "and their mean 0.9330052203724385\n",
      "best parameter values {'n_estimators': 911}\n",
      "best estimator RandomForestClassifier(max_features=7, n_estimators=911)\n",
      "\u001b[1m\n",
      " Results after grid search \n",
      "\u001b[0m\n",
      "0.9315663714515752 {'max_features': 'auto'}\n",
      "0.9322857959120068 {'max_features': 'sqrt'}\n",
      "0.932288393112225 {'n_estimators': 600}\n",
      "0.9322831987117887 {'n_estimators': 755}\n",
      "0.9351660909539516 {'n_estimators': 911}\n",
      "0.9351608965535153 {'n_estimators': 1066}\n",
      "0.933722047632652 {'n_estimators': 1222}\n",
      "0.9351634937537334 {'n_estimators': 1377}\n",
      "0.9344414720930836 {'n_estimators': 1533}\n",
      "0.9330026231722203 {'n_estimators': 1688}\n",
      "0.9337246448328701 {'n_estimators': 1844}\n",
      "0.9330000259720022 {'n_estimators': 2000}\n",
      "confusion matrix,  classes order is 0 and 1, actual values on rows, predicted values on columns \n",
      " [[135  19]\n",
      " [ 12 297]]\n",
      "\n",
      " accuracy 0.9330453563714903\n",
      "\n",
      " precision 0.939873417721519\n",
      "\n",
      " recall (sensitivity) 0.9611650485436893\n",
      "\n",
      " f1 0.9504\n"
     ]
    },
    {
     "data": {
      "text/plain": [
       "<matplotlib.axes._subplots.AxesSubplot at 0x7fcbbaa2c3c8>"
      ]
     },
     "execution_count": 41,
     "metadata": {},
     "output_type": "execute_result"
    },
    {
     "data": {
      "image/png": "[encoded data removed]",
      "text/plain": [
       "<Figure size 432x288 with 2 Axes>"
      ]
     },
     "metadata": {
      "needs_background": "light"
     },
     "output_type": "display_data"
    }
   ],
   "source": [
    "#RandomForests.\n",
    "rf=RandomForestClassifier()\n",
    "scores=cross_val_score(rf, train_X, train_Y, scoring='accuracy', cv=5)\n",
    "print('acuracy on the 5 folds', scores)\n",
    "print('and their mean', np.mean(scores))\n",
    "\n",
    "rf.max_features = 7\n",
    "rf.n_estimators = 1000\n",
    "scores=cross_val_score(rf, train_X, train_Y, scoring='accuracy', cv=5)\n",
    "print('for max_features 7 and n_estimators 1000;acuracy on the 5 folds', scores)\n",
    "print('and their mean', np.mean(scores))\n",
    "\n",
    "#grid search.\n",
    "param_grid = [\n",
    "     {'max_features': ['auto','sqrt']},\n",
    "     {'n_estimators': n_estimators} ]\n",
    "\n",
    "grid_search = GridSearchCV(rf, param_grid, cv=5,\n",
    "                           scoring='accuracy',\n",
    "                           return_train_score=True,\n",
    "                            n_jobs=-1)   # notice n_jobs is number of jobs to run in parallel; when -1, all the processor capacity is used\n",
    "\n",
    "grid_search.fit(train_X, train_Y)\n",
    "print('best parameter values', grid_search.best_params_)\n",
    "print('best estimator', grid_search.best_estimator_)\n",
    "\n",
    "print('\\033[1m' + '\\n Results after grid search \\n' + '\\033[0m')\n",
    "\n",
    "# display performances per each repetition of cross validation\n",
    "cvres = grid_search.cv_results_\n",
    "for mean_score, params in zip(cvres[\"mean_test_score\"], cvres[\"params\"]):\n",
    "    print(np.mean(mean_score), params)\n",
    "\n",
    "best_rf=grid_search.best_estimator_\n",
    "pred_Y=best_rf.predict(test_X)\n",
    "cm=confusion_matrix(test_Y, pred_Y) # confusion matrix\n",
    "print('confusion matrix,  classes order is 0 and 1, actual values on rows, predicted values on columns \\n', cm)\n",
    "print('\\n accuracy', accuracy_score(test_Y, pred_Y))\n",
    "print('\\n precision', precision_score(test_Y, pred_Y))\n",
    "print('\\n recall (sensitivity)', recall_score(test_Y, pred_Y))\n",
    "print('\\n f1', f1_score(test_Y, pred_Y))\n",
    "sns.heatmap(cm,xticklabels =xticklabels,yticklabels =xticklabels,annot=True,fmt='d')"
   ]
  },
  {
   "cell_type": "code",
   "execution_count": 42,
   "metadata": {
    "colab": {
     "base_uri": "https://localhost:8080/"
    },
    "id": "L5BAHSvSTmwF",
    "outputId": "71c42488-2be1-4c1d-e222-d895621be5b6"
   },
   "outputs": [
    {
     "name": "stdout",
     "output_type": "stream",
     "text": [
      "acuracy on the 5 folds [0.94604317 0.91007194 0.93884892 0.93140794 0.94223827]\n",
      "and their mean 0.933722047632652\n",
      "for n_estimators=200 and learning rate 0.5, acuracy on the 5 folds [0.94604317 0.91007194 0.93884892 0.93501805 0.94945848]\n",
      "and their mean 0.9358881126146015\n",
      "\u001b[1m\n",
      " Results after grid search \n",
      "\u001b[0m\n",
      "best parameter values {'learning_rate': 0.05, 'n_estimators': 80}\n",
      "best estimator AdaBoostClassifier(base_estimator=DecisionTreeClassifier(max_depth=3),\n",
      "                   learning_rate=0.05, n_estimators=80)\n",
      "0.9229228891255227 {'learning_rate': 0.01, 'n_estimators': 10}\n",
      "0.9358777238137288 {'learning_rate': 0.01, 'n_estimators': 20}\n",
      "0.9373243643352465 {'learning_rate': 0.01, 'n_estimators': 30}\n",
      "0.9387684076565461 {'learning_rate': 0.01, 'n_estimators': 40}\n",
      "0.9387710048567645 {'learning_rate': 0.01, 'n_estimators': 50}\n",
      "0.9402072565774094 {'learning_rate': 0.01, 'n_estimators': 60}\n",
      "0.9423681271589226 {'learning_rate': 0.01, 'n_estimators': 70}\n",
      "0.9423681271589226 {'learning_rate': 0.01, 'n_estimators': 80}\n",
      "0.9416512998987091 {'learning_rate': 0.01, 'n_estimators': 90}\n",
      "0.9416538970989274 {'learning_rate': 0.01, 'n_estimators': 100}\n",
      "0.9438147676804405 {'learning_rate': 0.01, 'n_estimators': 110}\n",
      "0.9474196815832532 {'learning_rate': 0.01, 'n_estimators': 120}\n",
      "0.9438095732800041 {'learning_rate': 0.01, 'n_estimators': 130}\n",
      "0.9409292782380593 {'learning_rate': 0.01, 'n_estimators': 140}\n",
      "0.939490429317196 {'learning_rate': 0.01, 'n_estimators': 150}\n",
      "0.939490429317196 {'learning_rate': 0.01, 'n_estimators': 160}\n",
      "0.9373321559359011 {'learning_rate': 0.01, 'n_estimators': 170}\n",
      "0.9380489831961146 {'learning_rate': 0.01, 'n_estimators': 180}\n",
      "0.9394826377165415 {'learning_rate': 0.01, 'n_estimators': 190}\n",
      "0.9337168532322156 {'learning_rate': 0.05, 'n_estimators': 10}\n",
      "0.9373321559359011 {'learning_rate': 0.05, 'n_estimators': 20}\n",
      "0.9416590914993638 {'learning_rate': 0.05, 'n_estimators': 30}\n",
      "0.9394852349167596 {'learning_rate': 0.05, 'n_estimators': 40}\n",
      "0.9394826377165415 {'learning_rate': 0.05, 'n_estimators': 50}\n",
      "0.9409188894371867 {'learning_rate': 0.05, 'n_estimators': 60}\n",
      "0.9474092927823806 {'learning_rate': 0.05, 'n_estimators': 70}\n",
      "0.948123522842376 {'learning_rate': 0.05, 'n_estimators': 80}\n",
      "0.943082357218918 {'learning_rate': 0.05, 'n_estimators': 90}\n",
      "0.9466872711217308 {'learning_rate': 0.05, 'n_estimators': 100}\n",
      "0.945240630600213 {'learning_rate': 0.05, 'n_estimators': 110}\n",
      "0.945965249461081 {'learning_rate': 0.05, 'n_estimators': 120}\n",
      "0.9466872711217308 {'learning_rate': 0.05, 'n_estimators': 130}\n",
      "0.945965249461081 {'learning_rate': 0.05, 'n_estimators': 140}\n",
      "0.9430745656182635 {'learning_rate': 0.05, 'n_estimators': 150}\n",
      "0.9409162922369685 {'learning_rate': 0.05, 'n_estimators': 160}\n",
      "0.945965249461081 {'learning_rate': 0.05, 'n_estimators': 170}\n",
      "0.9437991844791315 {'learning_rate': 0.05, 'n_estimators': 180}\n",
      "0.9452432278004311 {'learning_rate': 0.05, 'n_estimators': 190}\n",
      "0.934431083292211 {'learning_rate': 0.1, 'n_estimators': 10}\n",
      "0.931563774251357 {'learning_rate': 0.1, 'n_estimators': 20}\n",
      "0.9358829182141651 {'learning_rate': 0.1, 'n_estimators': 30}\n",
      "0.9416512998987093 {'learning_rate': 0.1, 'n_estimators': 40}\n",
      "0.9394930265174143 {'learning_rate': 0.1, 'n_estimators': 50}\n",
      "0.9423707243591408 {'learning_rate': 0.1, 'n_estimators': 60}\n",
      "0.9380463859958963 {'learning_rate': 0.1, 'n_estimators': 70}\n",
      "0.9394774433161052 {'learning_rate': 0.1, 'n_estimators': 80}\n",
      "0.9330026231722204 {'learning_rate': 0.1, 'n_estimators': 90}\n",
      "0.9358829182141651 {'learning_rate': 0.1, 'n_estimators': 100}\n",
      "0.9344362776926474 {'learning_rate': 0.1, 'n_estimators': 110}\n",
      "0.9365945510739422 {'learning_rate': 0.1, 'n_estimators': 120}\n",
      "0.9337168532322156 {'learning_rate': 0.1, 'n_estimators': 130}\n",
      "0.9358751266135107 {'learning_rate': 0.1, 'n_estimators': 140}\n",
      "0.9358751266135107 {'learning_rate': 0.1, 'n_estimators': 150}\n",
      "0.9358829182141651 {'learning_rate': 0.1, 'n_estimators': 160}\n",
      "0.9344388748928655 {'learning_rate': 0.1, 'n_estimators': 170}\n",
      "0.9337194504324339 {'learning_rate': 0.1, 'n_estimators': 180}\n",
      "0.9308365581902709 {'learning_rate': 0.1, 'n_estimators': 190}\n",
      "0.9402150481780641 {'learning_rate': 0.5, 'n_estimators': 10}\n",
      "0.9322909903124431 {'learning_rate': 0.5, 'n_estimators': 20}\n",
      "0.9380515803963327 {'learning_rate': 0.5, 'n_estimators': 30}\n",
      "0.9358881126146015 {'learning_rate': 0.5, 'n_estimators': 40}\n",
      "0.9366023426745969 {'learning_rate': 0.5, 'n_estimators': 50}\n",
      "0.9387554216554553 {'learning_rate': 0.5, 'n_estimators': 60}\n",
      "0.9373087811339376 {'learning_rate': 0.5, 'n_estimators': 70}\n",
      "0.9416383138976183 {'learning_rate': 0.5, 'n_estimators': 80}\n",
      "0.9416357166974002 {'learning_rate': 0.5, 'n_estimators': 90}\n",
      "0.9394826377165415 {'learning_rate': 0.5, 'n_estimators': 100}\n",
      "0.9409162922369685 {'learning_rate': 0.5, 'n_estimators': 110}\n",
      "0.9387450328545828 {'learning_rate': 0.5, 'n_estimators': 120}\n",
      "0.937316572734592 {'learning_rate': 0.5, 'n_estimators': 130}\n",
      "0.9373191699348101 {'learning_rate': 0.5, 'n_estimators': 140}\n",
      "0.9423603355582681 {'learning_rate': 0.5, 'n_estimators': 150}\n",
      "0.9380359971950238 {'learning_rate': 0.5, 'n_estimators': 160}\n",
      "0.9358803210139468 {'learning_rate': 0.5, 'n_estimators': 170}\n",
      "0.9315611770511388 {'learning_rate': 0.5, 'n_estimators': 180}\n",
      "0.9329948315715658 {'learning_rate': 0.5, 'n_estimators': 190}\n",
      "0.9250733709061632 {'learning_rate': 1, 'n_estimators': 10}\n",
      "0.9178661403007558 {'learning_rate': 1, 'n_estimators': 20}\n",
      "0.9279692491494169 {'learning_rate': 1, 'n_estimators': 30}\n",
      "0.93876321325611 {'learning_rate': 1, 'n_estimators': 40}\n",
      "0.9279380827467989 {'learning_rate': 1, 'n_estimators': 50}\n",
      "0.9293899176687532 {'learning_rate': 1, 'n_estimators': 60}\n",
      "0.9365945510739422 {'learning_rate': 1, 'n_estimators': 70}\n",
      "0.9286575072072306 {'learning_rate': 1, 'n_estimators': 80}\n",
      "0.9279354855465808 {'learning_rate': 1, 'n_estimators': 90}\n",
      "0.9329922343713477 {'learning_rate': 1, 'n_estimators': 100}\n",
      "0.9279484715476716 {'learning_rate': 1, 'n_estimators': 110}\n",
      "0.9300963561280939 {'learning_rate': 1, 'n_estimators': 120}\n",
      "0.9308339609900527 {'learning_rate': 1, 'n_estimators': 130}\n",
      "0.9301223281302755 {'learning_rate': 1, 'n_estimators': 140}\n",
      "0.9337012700309067 {'learning_rate': 1, 'n_estimators': 150}\n",
      "0.9329948315715658 {'learning_rate': 1, 'n_estimators': 160}\n",
      "0.9337168532322156 {'learning_rate': 1, 'n_estimators': 170}\n",
      "0.9394722489156688 {'learning_rate': 1, 'n_estimators': 180}\n",
      "0.9337012700309065 {'learning_rate': 1, 'n_estimators': 190}\n",
      "confusion matrix,  classes order is 0 and 1, actual values on rows, predicted values on columns \n",
      " [[135  19]\n",
      " [ 12 297]]\n",
      "\n",
      " accuracy 0.9330453563714903\n",
      "\n",
      " precision 0.939873417721519\n",
      "\n",
      " recall (sensitivity) 0.9611650485436893\n",
      "\n",
      " f1 0.9504\n"
     ]
    },
    {
     "data": {
      "text/plain": [
       "<matplotlib.axes._subplots.AxesSubplot at 0x7fcbbafaa048>"
      ]
     },
     "execution_count": 42,
     "metadata": {},
     "output_type": "execute_result"
    },
    {
     "data": {
      "image/png": "[encoded data removed]",
      "text/plain": [
       "<Figure size 432x288 with 2 Axes>"
      ]
     },
     "metadata": {
      "needs_background": "light"
     },
     "output_type": "display_data"
    }
   ],
   "source": [
    "#Adaboost\n",
    "ab=AdaBoostClassifier(DecisionTreeClassifier(max_depth=3))\n",
    "scores=cross_val_score(rf, train_X, train_Y, scoring='accuracy', cv=5)\n",
    "print('acuracy on the 5 folds', scores)\n",
    "print('and their mean', np.mean(scores))\n",
    "\n",
    "ab.n_estimators=200\n",
    "ab.learning_rate=0.5\n",
    "scores=cross_val_score(rf, train_X, train_Y, scoring='accuracy', cv=5)\n",
    "print('for n_estimators=200 and learning rate 0.5, acuracy on the 5 folds', scores)\n",
    "print('and their mean', np.mean(scores))\n",
    "\n",
    "\n",
    "print('\\033[1m' + '\\n Results after grid search \\n' + '\\033[0m')\n",
    "\n",
    "param_grid = {\n",
    "     'n_estimators': np.arange(10,200,10),\n",
    "     'learning_rate': [0.01, 0.05, 0.1, 0.5, 1]\n",
    " }\n",
    "grid_search = GridSearchCV(ab, param_grid, scoring='accuracy', cv=5, n_jobs=-1)\n",
    "grid_search.fit(train_X,train_Y)\n",
    "grid_search.best_params_\n",
    "print('best parameter values', grid_search.best_params_)\n",
    "print('best estimator', grid_search.best_estimator_)\n",
    "\n",
    "# display performances per each repetition of cross validation\n",
    "cvres = grid_search.cv_results_\n",
    "for mean_score, params in zip(cvres[\"mean_test_score\"], cvres[\"params\"]):\n",
    "    print(np.mean(mean_score), params)\n",
    "\n",
    "best_ab=grid_search.best_estimator_\n",
    "pred_Y=best_rf.predict(test_X)\n",
    "\n",
    "cm=confusion_matrix(test_Y, pred_Y) # confusion matrix\n",
    "print('confusion matrix,  classes order is 0 and 1, actual values on rows, predicted values on columns \\n', cm)\n",
    "print('\\n accuracy', accuracy_score(test_Y, pred_Y))\n",
    "print('\\n precision', precision_score(test_Y, pred_Y))\n",
    "print('\\n recall (sensitivity)', recall_score(test_Y, pred_Y))\n",
    "print('\\n f1', f1_score(test_Y, pred_Y))\n",
    "\n",
    "sns.heatmap(cm,xticklabels =xticklabels,yticklabels =xticklabels,annot=True,fmt='d')"
   ]
  }
 ],
 "metadata": {
  "colab": {
   "collapsed_sections": [],
   "name": "DP_MiniProject.ipynb",
   "provenance": []
  },
  "kernelspec": {
   "display_name": "Python 3",
   "language": "python",
   "name": "python3"
  },
  "language_info": {
   "codemirror_mode": {
    "name": "ipython",
    "version": 3
   },
   "file_extension": ".py",
   "mimetype": "text/x-python",
   "name": "python",
   "nbconvert_exporter": "python",
   "pygments_lexer": "ipython3",
   "version": "3.7.1"
  }
 },
 "nbformat": 4,
 "nbformat_minor": 1
}
